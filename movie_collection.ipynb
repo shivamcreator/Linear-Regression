{
  "nbformat": 4,
  "nbformat_minor": 0,
  "metadata": {
    "colab": {
      "name": "movie_collection.ipynb",
      "provenance": []
    },
    "kernelspec": {
      "name": "python3",
      "display_name": "Python 3"
    }
  },
  "cells": [
    {
      "cell_type": "markdown",
      "metadata": {
        "id": "XvKnvTGXsH8z"
      },
      "source": [
        "\n",
        "\n",
        "#***Linear*** **Regression**\n",
        "\n",
        "\n",
        "\n",
        "\n",
        "\n",
        "\n",
        "\n",
        "\n",
        "\n"
      ]
    },
    {
      "cell_type": "code",
      "metadata": {
        "id": "KB2tOyKYsHfg"
      },
      "source": [
        "###"
      ],
      "execution_count": null,
      "outputs": []
    },
    {
      "cell_type": "code",
      "metadata": {
        "id": "twxn0UiYilzA"
      },
      "source": [
        "import pandas as pd\n",
        "import seaborn as sns"
      ],
      "execution_count": null,
      "outputs": []
    },
    {
      "cell_type": "code",
      "metadata": {
        "id": "UAJNA_h9jDC3"
      },
      "source": [
        "train=pd.read_csv(\"/content/Movie_collection_train.csv\")"
      ],
      "execution_count": null,
      "outputs": []
    },
    {
      "cell_type": "code",
      "metadata": {
        "id": "sQqbSgy6jO0G",
        "outputId": "ac534426-6e24-4386-a74a-2fc18a621ed0",
        "colab": {
          "base_uri": "https://localhost:8080/",
          "height": 231
        }
      },
      "source": [
        "train.head()"
      ],
      "execution_count": null,
      "outputs": [
        {
          "output_type": "execute_result",
          "data": {
            "text/html": [
              "<div>\n",
              "<style scoped>\n",
              "    .dataframe tbody tr th:only-of-type {\n",
              "        vertical-align: middle;\n",
              "    }\n",
              "\n",
              "    .dataframe tbody tr th {\n",
              "        vertical-align: top;\n",
              "    }\n",
              "\n",
              "    .dataframe thead th {\n",
              "        text-align: right;\n",
              "    }\n",
              "</style>\n",
              "<table border=\"1\" class=\"dataframe\">\n",
              "  <thead>\n",
              "    <tr style=\"text-align: right;\">\n",
              "      <th></th>\n",
              "      <th>Collection</th>\n",
              "      <th>Marketin_expense</th>\n",
              "      <th>Production_expense</th>\n",
              "      <th>Multiplex_coverage</th>\n",
              "      <th>Budget</th>\n",
              "      <th>Movie_length</th>\n",
              "      <th>Lead_ Actor_Rating</th>\n",
              "      <th>Lead_Actress_rating</th>\n",
              "      <th>Director_rating</th>\n",
              "      <th>Producer_rating</th>\n",
              "      <th>Critic_rating</th>\n",
              "      <th>Trailer_views</th>\n",
              "      <th>Time_taken</th>\n",
              "      <th>Twitter_hastags</th>\n",
              "      <th>Genre</th>\n",
              "      <th>Avg_age_actors</th>\n",
              "      <th>MPAA_film_rating</th>\n",
              "      <th>Num_multiplex</th>\n",
              "      <th>3D_available</th>\n",
              "    </tr>\n",
              "  </thead>\n",
              "  <tbody>\n",
              "    <tr>\n",
              "      <th>0</th>\n",
              "      <td>48000</td>\n",
              "      <td>20.1264</td>\n",
              "      <td>59.62</td>\n",
              "      <td>0.462</td>\n",
              "      <td>36524.125</td>\n",
              "      <td>138.7</td>\n",
              "      <td>7.825</td>\n",
              "      <td>8.095</td>\n",
              "      <td>7.910</td>\n",
              "      <td>7.995</td>\n",
              "      <td>7.94</td>\n",
              "      <td>527367</td>\n",
              "      <td>109.60</td>\n",
              "      <td>223.840</td>\n",
              "      <td>Thriller</td>\n",
              "      <td>23</td>\n",
              "      <td>PG</td>\n",
              "      <td>494</td>\n",
              "      <td>YES</td>\n",
              "    </tr>\n",
              "    <tr>\n",
              "      <th>1</th>\n",
              "      <td>43200</td>\n",
              "      <td>20.5462</td>\n",
              "      <td>69.14</td>\n",
              "      <td>0.531</td>\n",
              "      <td>35668.655</td>\n",
              "      <td>152.4</td>\n",
              "      <td>7.505</td>\n",
              "      <td>7.650</td>\n",
              "      <td>7.440</td>\n",
              "      <td>7.470</td>\n",
              "      <td>7.44</td>\n",
              "      <td>494055</td>\n",
              "      <td>146.64</td>\n",
              "      <td>243.456</td>\n",
              "      <td>Drama</td>\n",
              "      <td>42</td>\n",
              "      <td>PG</td>\n",
              "      <td>462</td>\n",
              "      <td>NO</td>\n",
              "    </tr>\n",
              "    <tr>\n",
              "      <th>2</th>\n",
              "      <td>69400</td>\n",
              "      <td>20.5458</td>\n",
              "      <td>69.14</td>\n",
              "      <td>0.531</td>\n",
              "      <td>39912.675</td>\n",
              "      <td>134.6</td>\n",
              "      <td>7.485</td>\n",
              "      <td>7.570</td>\n",
              "      <td>7.495</td>\n",
              "      <td>7.515</td>\n",
              "      <td>7.44</td>\n",
              "      <td>547051</td>\n",
              "      <td>147.88</td>\n",
              "      <td>2022.400</td>\n",
              "      <td>Comedy</td>\n",
              "      <td>38</td>\n",
              "      <td>PG</td>\n",
              "      <td>458</td>\n",
              "      <td>NO</td>\n",
              "    </tr>\n",
              "    <tr>\n",
              "      <th>3</th>\n",
              "      <td>66800</td>\n",
              "      <td>20.6474</td>\n",
              "      <td>59.36</td>\n",
              "      <td>0.542</td>\n",
              "      <td>38873.890</td>\n",
              "      <td>119.3</td>\n",
              "      <td>6.895</td>\n",
              "      <td>7.035</td>\n",
              "      <td>6.920</td>\n",
              "      <td>7.020</td>\n",
              "      <td>8.26</td>\n",
              "      <td>516279</td>\n",
              "      <td>185.36</td>\n",
              "      <td>225.344</td>\n",
              "      <td>Drama</td>\n",
              "      <td>45</td>\n",
              "      <td>PG</td>\n",
              "      <td>472</td>\n",
              "      <td>YES</td>\n",
              "    </tr>\n",
              "    <tr>\n",
              "      <th>4</th>\n",
              "      <td>72400</td>\n",
              "      <td>21.3810</td>\n",
              "      <td>59.36</td>\n",
              "      <td>0.542</td>\n",
              "      <td>39701.585</td>\n",
              "      <td>127.7</td>\n",
              "      <td>6.920</td>\n",
              "      <td>7.070</td>\n",
              "      <td>6.815</td>\n",
              "      <td>7.070</td>\n",
              "      <td>8.26</td>\n",
              "      <td>531448</td>\n",
              "      <td>176.48</td>\n",
              "      <td>225.792</td>\n",
              "      <td>Drama</td>\n",
              "      <td>55</td>\n",
              "      <td>PG</td>\n",
              "      <td>395</td>\n",
              "      <td>NO</td>\n",
              "    </tr>\n",
              "  </tbody>\n",
              "</table>\n",
              "</div>"
            ],
            "text/plain": [
              "   Collection  Marketin_expense  ...  Num_multiplex  3D_available\n",
              "0       48000           20.1264  ...            494           YES\n",
              "1       43200           20.5462  ...            462            NO\n",
              "2       69400           20.5458  ...            458            NO\n",
              "3       66800           20.6474  ...            472           YES\n",
              "4       72400           21.3810  ...            395            NO\n",
              "\n",
              "[5 rows x 19 columns]"
            ]
          },
          "metadata": {
            "tags": []
          },
          "execution_count": 3
        }
      ]
    },
    {
      "cell_type": "code",
      "metadata": {
        "id": "GXfdo7oUjSgO",
        "outputId": "fd6be327-9206-4f33-a3f5-513b4a347582",
        "colab": {
          "base_uri": "https://localhost:8080/",
          "height": 319
        }
      },
      "source": [
        "train.describe()"
      ],
      "execution_count": null,
      "outputs": [
        {
          "output_type": "execute_result",
          "data": {
            "text/html": [
              "<div>\n",
              "<style scoped>\n",
              "    .dataframe tbody tr th:only-of-type {\n",
              "        vertical-align: middle;\n",
              "    }\n",
              "\n",
              "    .dataframe tbody tr th {\n",
              "        vertical-align: top;\n",
              "    }\n",
              "\n",
              "    .dataframe thead th {\n",
              "        text-align: right;\n",
              "    }\n",
              "</style>\n",
              "<table border=\"1\" class=\"dataframe\">\n",
              "  <thead>\n",
              "    <tr style=\"text-align: right;\">\n",
              "      <th></th>\n",
              "      <th>Collection</th>\n",
              "      <th>Marketin_expense</th>\n",
              "      <th>Production_expense</th>\n",
              "      <th>Multiplex_coverage</th>\n",
              "      <th>Budget</th>\n",
              "      <th>Movie_length</th>\n",
              "      <th>Lead_ Actor_Rating</th>\n",
              "      <th>Lead_Actress_rating</th>\n",
              "      <th>Director_rating</th>\n",
              "      <th>Producer_rating</th>\n",
              "      <th>Critic_rating</th>\n",
              "      <th>Trailer_views</th>\n",
              "      <th>Time_taken</th>\n",
              "      <th>Twitter_hastags</th>\n",
              "      <th>Avg_age_actors</th>\n",
              "      <th>Num_multiplex</th>\n",
              "    </tr>\n",
              "  </thead>\n",
              "  <tbody>\n",
              "    <tr>\n",
              "      <th>count</th>\n",
              "      <td>400.000000</td>\n",
              "      <td>400.000000</td>\n",
              "      <td>400.000000</td>\n",
              "      <td>400.000000</td>\n",
              "      <td>400.000000</td>\n",
              "      <td>400.000000</td>\n",
              "      <td>400.000000</td>\n",
              "      <td>400.000000</td>\n",
              "      <td>400.000000</td>\n",
              "      <td>400.000000</td>\n",
              "      <td>400.000000</td>\n",
              "      <td>400.000000</td>\n",
              "      <td>392.000000</td>\n",
              "      <td>400.000000</td>\n",
              "      <td>400.000000</td>\n",
              "      <td>400.000000</td>\n",
              "    </tr>\n",
              "    <tr>\n",
              "      <th>mean</th>\n",
              "      <td>48646.500000</td>\n",
              "      <td>55.017180</td>\n",
              "      <td>73.832700</td>\n",
              "      <td>0.469881</td>\n",
              "      <td>35197.771537</td>\n",
              "      <td>137.581750</td>\n",
              "      <td>7.810275</td>\n",
              "      <td>7.982812</td>\n",
              "      <td>7.813375</td>\n",
              "      <td>7.993887</td>\n",
              "      <td>7.894100</td>\n",
              "      <td>463223.567500</td>\n",
              "      <td>157.790000</td>\n",
              "      <td>258.083840</td>\n",
              "      <td>38.715000</td>\n",
              "      <td>523.650000</td>\n",
              "    </tr>\n",
              "    <tr>\n",
              "      <th>std</th>\n",
              "      <td>18308.499136</td>\n",
              "      <td>119.755634</td>\n",
              "      <td>13.023426</td>\n",
              "      <td>0.113920</td>\n",
              "      <td>4075.766926</td>\n",
              "      <td>28.990673</td>\n",
              "      <td>1.088694</td>\n",
              "      <td>1.089923</td>\n",
              "      <td>1.093581</td>\n",
              "      <td>1.088619</td>\n",
              "      <td>0.672413</td>\n",
              "      <td>65225.567649</td>\n",
              "      <td>31.723517</td>\n",
              "      <td>94.621476</td>\n",
              "      <td>12.651043</td>\n",
              "      <td>103.661283</td>\n",
              "    </tr>\n",
              "    <tr>\n",
              "      <th>min</th>\n",
              "      <td>10000.000000</td>\n",
              "      <td>20.126400</td>\n",
              "      <td>55.920000</td>\n",
              "      <td>0.129000</td>\n",
              "      <td>19781.355000</td>\n",
              "      <td>76.400000</td>\n",
              "      <td>3.840000</td>\n",
              "      <td>4.035000</td>\n",
              "      <td>3.840000</td>\n",
              "      <td>4.030000</td>\n",
              "      <td>6.600000</td>\n",
              "      <td>215432.000000</td>\n",
              "      <td>0.000000</td>\n",
              "      <td>201.632000</td>\n",
              "      <td>3.000000</td>\n",
              "      <td>333.000000</td>\n",
              "    </tr>\n",
              "    <tr>\n",
              "      <th>25%</th>\n",
              "      <td>37800.000000</td>\n",
              "      <td>21.321950</td>\n",
              "      <td>63.250000</td>\n",
              "      <td>0.419000</td>\n",
              "      <td>32721.727500</td>\n",
              "      <td>111.175000</td>\n",
              "      <td>7.092500</td>\n",
              "      <td>7.252500</td>\n",
              "      <td>7.123750</td>\n",
              "      <td>7.273750</td>\n",
              "      <td>7.320000</td>\n",
              "      <td>436793.500000</td>\n",
              "      <td>133.360000</td>\n",
              "      <td>223.804000</td>\n",
              "      <td>26.000000</td>\n",
              "      <td>451.000000</td>\n",
              "    </tr>\n",
              "    <tr>\n",
              "      <th>50%</th>\n",
              "      <td>45000.000000</td>\n",
              "      <td>23.214700</td>\n",
              "      <td>69.030000</td>\n",
              "      <td>0.494500</td>\n",
              "      <td>34593.762500</td>\n",
              "      <td>142.250000</td>\n",
              "      <td>7.995000</td>\n",
              "      <td>8.157500</td>\n",
              "      <td>7.990000</td>\n",
              "      <td>8.140000</td>\n",
              "      <td>7.960000</td>\n",
              "      <td>474930.000000</td>\n",
              "      <td>159.720000</td>\n",
              "      <td>246.680000</td>\n",
              "      <td>39.000000</td>\n",
              "      <td>510.000000</td>\n",
              "    </tr>\n",
              "    <tr>\n",
              "      <th>75%</th>\n",
              "      <td>56500.000000</td>\n",
              "      <td>34.638300</td>\n",
              "      <td>82.840000</td>\n",
              "      <td>0.558000</td>\n",
              "      <td>37142.118750</td>\n",
              "      <td>165.400000</td>\n",
              "      <td>8.725000</td>\n",
              "      <td>8.912500</td>\n",
              "      <td>8.740000</td>\n",
              "      <td>8.931250</td>\n",
              "      <td>8.400000</td>\n",
              "      <td>507690.500000</td>\n",
              "      <td>183.210000</td>\n",
              "      <td>283.444000</td>\n",
              "      <td>50.000000</td>\n",
              "      <td>571.000000</td>\n",
              "    </tr>\n",
              "    <tr>\n",
              "      <th>max</th>\n",
              "      <td>100000.000000</td>\n",
              "      <td>1799.524000</td>\n",
              "      <td>106.300000</td>\n",
              "      <td>0.615000</td>\n",
              "      <td>48772.900000</td>\n",
              "      <td>173.500000</td>\n",
              "      <td>9.435000</td>\n",
              "      <td>9.540000</td>\n",
              "      <td>9.425000</td>\n",
              "      <td>9.635000</td>\n",
              "      <td>9.400000</td>\n",
              "      <td>567784.000000</td>\n",
              "      <td>217.520000</td>\n",
              "      <td>2022.400000</td>\n",
              "      <td>60.000000</td>\n",
              "      <td>868.000000</td>\n",
              "    </tr>\n",
              "  </tbody>\n",
              "</table>\n",
              "</div>"
            ],
            "text/plain": [
              "          Collection  Marketin_expense  ...  Avg_age_actors  Num_multiplex\n",
              "count     400.000000        400.000000  ...      400.000000     400.000000\n",
              "mean    48646.500000         55.017180  ...       38.715000     523.650000\n",
              "std     18308.499136        119.755634  ...       12.651043     103.661283\n",
              "min     10000.000000         20.126400  ...        3.000000     333.000000\n",
              "25%     37800.000000         21.321950  ...       26.000000     451.000000\n",
              "50%     45000.000000         23.214700  ...       39.000000     510.000000\n",
              "75%     56500.000000         34.638300  ...       50.000000     571.000000\n",
              "max    100000.000000       1799.524000  ...       60.000000     868.000000\n",
              "\n",
              "[8 rows x 16 columns]"
            ]
          },
          "metadata": {
            "tags": []
          },
          "execution_count": 4
        }
      ]
    },
    {
      "cell_type": "code",
      "metadata": {
        "id": "h0oeq4jLkmt5",
        "outputId": "d856a6d5-3576-4bce-e33e-e021a8f404dc",
        "colab": {
          "base_uri": "https://localhost:8080/",
          "height": 372
        }
      },
      "source": [
        "\n",
        "train.count()"
      ],
      "execution_count": null,
      "outputs": [
        {
          "output_type": "execute_result",
          "data": {
            "text/plain": [
              "Collection             400\n",
              "Marketin_expense       400\n",
              "Production_expense     400\n",
              "Multiplex_coverage     400\n",
              "Budget                 400\n",
              "Movie_length           400\n",
              "Lead_ Actor_Rating     400\n",
              "Lead_Actress_rating    400\n",
              "Director_rating        400\n",
              "Producer_rating        400\n",
              "Critic_rating          400\n",
              "Trailer_views          400\n",
              "Time_taken             392\n",
              "Twitter_hastags        400\n",
              "Genre                  400\n",
              "Avg_age_actors         400\n",
              "MPAA_film_rating       400\n",
              "Num_multiplex          400\n",
              "3D_available           400\n",
              "dtype: int64"
            ]
          },
          "metadata": {
            "tags": []
          },
          "execution_count": 5
        }
      ]
    },
    {
      "cell_type": "code",
      "metadata": {
        "id": "eczmTTTakqaH",
        "outputId": "be793aec-c8ee-4aa9-bcca-7cb6417ddaae",
        "colab": {
          "base_uri": "https://localhost:8080/",
          "height": 459
        }
      },
      "source": [
        "sns.jointplot(x='Avg_age_actors',y='Collection',data=train)"
      ],
      "execution_count": null,
      "outputs": [
        {
          "output_type": "execute_result",
          "data": {
            "text/plain": [
              "<seaborn.axisgrid.JointGrid at 0x7fa8765f05f8>"
            ]
          },
          "metadata": {
            "tags": []
          },
          "execution_count": 6
        },
        {
          "output_type": "display_data",
          "data": {
            "image/png": "[encoded data removed]",
            "text/plain": [
              "<Figure size 432x432 with 3 Axes>"
            ]
          },
          "metadata": {
            "tags": [],
            "needs_background": "light"
          }
        }
      ]
    },
    {
      "cell_type": "code",
      "metadata": {
        "id": "QTMZXtub2OmB",
        "outputId": "7370b604-594c-424e-e2d4-ef49e9c8ae2b",
        "colab": {
          "base_uri": "https://localhost:8080/",
          "height": 35
        }
      },
      "source": [
        "train.shape"
      ],
      "execution_count": null,
      "outputs": [
        {
          "output_type": "execute_result",
          "data": {
            "text/plain": [
              "(400, 19)"
            ]
          },
          "metadata": {
            "tags": []
          },
          "execution_count": 7
        }
      ]
    },
    {
      "cell_type": "code",
      "metadata": {
        "id": "b68w5dFM3ueE",
        "outputId": "b15fd9ac-53ec-4697-ad8e-dffc9178505a",
        "colab": {
          "base_uri": "https://localhost:8080/",
          "height": 459
        }
      },
      "source": [
        "sns.jointplot(x='Collection',y='Budget',data=train)"
      ],
      "execution_count": null,
      "outputs": [
        {
          "output_type": "execute_result",
          "data": {
            "text/plain": [
              "<seaborn.axisgrid.JointGrid at 0x7fa8731f5c88>"
            ]
          },
          "metadata": {
            "tags": []
          },
          "execution_count": 8
        },
        {
          "output_type": "display_data",
          "data": {
            "image/png": "[encoded data removed]",
            "text/plain": [
              "<Figure size 432x432 with 3 Axes>"
            ]
          },
          "metadata": {
            "tags": [],
            "needs_background": "light"
          }
        }
      ]
    },
    {
      "cell_type": "code",
      "metadata": {
        "id": "gEN33CeC623C",
        "outputId": "587d5581-3062-4cbf-8566-eb06668d4878",
        "colab": {
          "base_uri": "https://localhost:8080/",
          "height": 459
        }
      },
      "source": [
        "sns.jointplot(x='Marketin_expense',y='Collection',data=train)"
      ],
      "execution_count": null,
      "outputs": [
        {
          "output_type": "execute_result",
          "data": {
            "text/plain": [
              "<seaborn.axisgrid.JointGrid at 0x7fa872405ef0>"
            ]
          },
          "metadata": {
            "tags": []
          },
          "execution_count": 9
        },
        {
          "output_type": "display_data",
          "data": {
            "image/png": "[encoded data removed]",
            "text/plain": [
              "<Figure size 432x432 with 3 Axes>"
            ]
          },
          "metadata": {
            "tags": [],
            "needs_background": "light"
          }
        }
      ]
    },
    {
      "cell_type": "code",
      "metadata": {
        "id": "8OqO5vod6_fB",
        "outputId": "0e1c60b8-a2b5-4b3c-d651-9986530e0fa0",
        "colab": {
          "base_uri": "https://localhost:8080/",
          "height": 459
        }
      },
      "source": [
        "sns.jointplot(x='Production_expense',y='Collection',data=train)"
      ],
      "execution_count": null,
      "outputs": [
        {
          "output_type": "execute_result",
          "data": {
            "text/plain": [
              "<seaborn.axisgrid.JointGrid at 0x7fa872223ef0>"
            ]
          },
          "metadata": {
            "tags": []
          },
          "execution_count": 10
        },
        {
          "output_type": "display_data",
          "data": {
            "image/png": "[encoded data removed]",
            "text/plain": [
              "<Figure size 432x432 with 3 Axes>"
            ]
          },
          "metadata": {
            "tags": [],
            "needs_background": "light"
          }
        }
      ]
    },
    {
      "cell_type": "code",
      "metadata": {
        "id": "7n4kRGyl7Jky",
        "outputId": "04403012-ba02-47e1-f674-0694662d7852",
        "colab": {
          "base_uri": "https://localhost:8080/",
          "height": 459
        }
      },
      "source": [
        "sns.jointplot(x='Twitter_hastags',y='Collection',data=train)"
      ],
      "execution_count": null,
      "outputs": [
        {
          "output_type": "execute_result",
          "data": {
            "text/plain": [
              "<seaborn.axisgrid.JointGrid at 0x7fa872391be0>"
            ]
          },
          "metadata": {
            "tags": []
          },
          "execution_count": 11
        },
        {
          "output_type": "display_data",
          "data": {
            "image/png": "[encoded data removed]",
            "text/plain": [
              "<Figure size 432x432 with 3 Axes>"
            ]
          },
          "metadata": {
            "tags": [],
            "needs_background": "light"
          }
        }
      ]
    },
    {
      "cell_type": "code",
      "metadata": {
        "id": "1rJX9k_z7Tnj",
        "outputId": "60050ab9-8f46-4e09-ff14-0e7bd40876f6",
        "colab": {
          "base_uri": "https://localhost:8080/",
          "height": 459
        }
      },
      "source": [
        "sns.jointplot(x='Time_taken',y='Collection',data=train)"
      ],
      "execution_count": null,
      "outputs": [
        {
          "output_type": "execute_result",
          "data": {
            "text/plain": [
              "<seaborn.axisgrid.JointGrid at 0x7fa87222fa58>"
            ]
          },
          "metadata": {
            "tags": []
          },
          "execution_count": 12
        },
        {
          "output_type": "display_data",
          "data": {
            "image/png": "[encoded data removed]",
            "text/plain": [
              "<Figure size 432x432 with 3 Axes>"
            ]
          },
          "metadata": {
            "tags": [],
            "needs_background": "light"
          }
        }
      ]
    },
    {
      "cell_type": "code",
      "metadata": {
        "id": "y8L3mbGI7bsF",
        "outputId": "bfda16aa-68a3-4d6b-b2c6-ac1b329fd329",
        "colab": {
          "base_uri": "https://localhost:8080/",
          "height": 319
        }
      },
      "source": [
        "train.describe()"
      ],
      "execution_count": null,
      "outputs": [
        {
          "output_type": "execute_result",
          "data": {
            "text/html": [
              "<div>\n",
              "<style scoped>\n",
              "    .dataframe tbody tr th:only-of-type {\n",
              "        vertical-align: middle;\n",
              "    }\n",
              "\n",
              "    .dataframe tbody tr th {\n",
              "        vertical-align: top;\n",
              "    }\n",
              "\n",
              "    .dataframe thead th {\n",
              "        text-align: right;\n",
              "    }\n",
              "</style>\n",
              "<table border=\"1\" class=\"dataframe\">\n",
              "  <thead>\n",
              "    <tr style=\"text-align: right;\">\n",
              "      <th></th>\n",
              "      <th>Collection</th>\n",
              "      <th>Marketin_expense</th>\n",
              "      <th>Production_expense</th>\n",
              "      <th>Multiplex_coverage</th>\n",
              "      <th>Budget</th>\n",
              "      <th>Movie_length</th>\n",
              "      <th>Lead_ Actor_Rating</th>\n",
              "      <th>Lead_Actress_rating</th>\n",
              "      <th>Director_rating</th>\n",
              "      <th>Producer_rating</th>\n",
              "      <th>Critic_rating</th>\n",
              "      <th>Trailer_views</th>\n",
              "      <th>Time_taken</th>\n",
              "      <th>Twitter_hastags</th>\n",
              "      <th>Avg_age_actors</th>\n",
              "      <th>Num_multiplex</th>\n",
              "    </tr>\n",
              "  </thead>\n",
              "  <tbody>\n",
              "    <tr>\n",
              "      <th>count</th>\n",
              "      <td>400.000000</td>\n",
              "      <td>400.000000</td>\n",
              "      <td>400.000000</td>\n",
              "      <td>400.000000</td>\n",
              "      <td>400.000000</td>\n",
              "      <td>400.000000</td>\n",
              "      <td>400.000000</td>\n",
              "      <td>400.000000</td>\n",
              "      <td>400.000000</td>\n",
              "      <td>400.000000</td>\n",
              "      <td>400.000000</td>\n",
              "      <td>400.000000</td>\n",
              "      <td>392.000000</td>\n",
              "      <td>400.000000</td>\n",
              "      <td>400.000000</td>\n",
              "      <td>400.000000</td>\n",
              "    </tr>\n",
              "    <tr>\n",
              "      <th>mean</th>\n",
              "      <td>48646.500000</td>\n",
              "      <td>55.017180</td>\n",
              "      <td>73.832700</td>\n",
              "      <td>0.469881</td>\n",
              "      <td>35197.771537</td>\n",
              "      <td>137.581750</td>\n",
              "      <td>7.810275</td>\n",
              "      <td>7.982812</td>\n",
              "      <td>7.813375</td>\n",
              "      <td>7.993887</td>\n",
              "      <td>7.894100</td>\n",
              "      <td>463223.567500</td>\n",
              "      <td>157.790000</td>\n",
              "      <td>258.083840</td>\n",
              "      <td>38.715000</td>\n",
              "      <td>523.650000</td>\n",
              "    </tr>\n",
              "    <tr>\n",
              "      <th>std</th>\n",
              "      <td>18308.499136</td>\n",
              "      <td>119.755634</td>\n",
              "      <td>13.023426</td>\n",
              "      <td>0.113920</td>\n",
              "      <td>4075.766926</td>\n",
              "      <td>28.990673</td>\n",
              "      <td>1.088694</td>\n",
              "      <td>1.089923</td>\n",
              "      <td>1.093581</td>\n",
              "      <td>1.088619</td>\n",
              "      <td>0.672413</td>\n",
              "      <td>65225.567649</td>\n",
              "      <td>31.723517</td>\n",
              "      <td>94.621476</td>\n",
              "      <td>12.651043</td>\n",
              "      <td>103.661283</td>\n",
              "    </tr>\n",
              "    <tr>\n",
              "      <th>min</th>\n",
              "      <td>10000.000000</td>\n",
              "      <td>20.126400</td>\n",
              "      <td>55.920000</td>\n",
              "      <td>0.129000</td>\n",
              "      <td>19781.355000</td>\n",
              "      <td>76.400000</td>\n",
              "      <td>3.840000</td>\n",
              "      <td>4.035000</td>\n",
              "      <td>3.840000</td>\n",
              "      <td>4.030000</td>\n",
              "      <td>6.600000</td>\n",
              "      <td>215432.000000</td>\n",
              "      <td>0.000000</td>\n",
              "      <td>201.632000</td>\n",
              "      <td>3.000000</td>\n",
              "      <td>333.000000</td>\n",
              "    </tr>\n",
              "    <tr>\n",
              "      <th>25%</th>\n",
              "      <td>37800.000000</td>\n",
              "      <td>21.321950</td>\n",
              "      <td>63.250000</td>\n",
              "      <td>0.419000</td>\n",
              "      <td>32721.727500</td>\n",
              "      <td>111.175000</td>\n",
              "      <td>7.092500</td>\n",
              "      <td>7.252500</td>\n",
              "      <td>7.123750</td>\n",
              "      <td>7.273750</td>\n",
              "      <td>7.320000</td>\n",
              "      <td>436793.500000</td>\n",
              "      <td>133.360000</td>\n",
              "      <td>223.804000</td>\n",
              "      <td>26.000000</td>\n",
              "      <td>451.000000</td>\n",
              "    </tr>\n",
              "    <tr>\n",
              "      <th>50%</th>\n",
              "      <td>45000.000000</td>\n",
              "      <td>23.214700</td>\n",
              "      <td>69.030000</td>\n",
              "      <td>0.494500</td>\n",
              "      <td>34593.762500</td>\n",
              "      <td>142.250000</td>\n",
              "      <td>7.995000</td>\n",
              "      <td>8.157500</td>\n",
              "      <td>7.990000</td>\n",
              "      <td>8.140000</td>\n",
              "      <td>7.960000</td>\n",
              "      <td>474930.000000</td>\n",
              "      <td>159.720000</td>\n",
              "      <td>246.680000</td>\n",
              "      <td>39.000000</td>\n",
              "      <td>510.000000</td>\n",
              "    </tr>\n",
              "    <tr>\n",
              "      <th>75%</th>\n",
              "      <td>56500.000000</td>\n",
              "      <td>34.638300</td>\n",
              "      <td>82.840000</td>\n",
              "      <td>0.558000</td>\n",
              "      <td>37142.118750</td>\n",
              "      <td>165.400000</td>\n",
              "      <td>8.725000</td>\n",
              "      <td>8.912500</td>\n",
              "      <td>8.740000</td>\n",
              "      <td>8.931250</td>\n",
              "      <td>8.400000</td>\n",
              "      <td>507690.500000</td>\n",
              "      <td>183.210000</td>\n",
              "      <td>283.444000</td>\n",
              "      <td>50.000000</td>\n",
              "      <td>571.000000</td>\n",
              "    </tr>\n",
              "    <tr>\n",
              "      <th>max</th>\n",
              "      <td>100000.000000</td>\n",
              "      <td>1799.524000</td>\n",
              "      <td>106.300000</td>\n",
              "      <td>0.615000</td>\n",
              "      <td>48772.900000</td>\n",
              "      <td>173.500000</td>\n",
              "      <td>9.435000</td>\n",
              "      <td>9.540000</td>\n",
              "      <td>9.425000</td>\n",
              "      <td>9.635000</td>\n",
              "      <td>9.400000</td>\n",
              "      <td>567784.000000</td>\n",
              "      <td>217.520000</td>\n",
              "      <td>2022.400000</td>\n",
              "      <td>60.000000</td>\n",
              "      <td>868.000000</td>\n",
              "    </tr>\n",
              "  </tbody>\n",
              "</table>\n",
              "</div>"
            ],
            "text/plain": [
              "          Collection  Marketin_expense  ...  Avg_age_actors  Num_multiplex\n",
              "count     400.000000        400.000000  ...      400.000000     400.000000\n",
              "mean    48646.500000         55.017180  ...       38.715000     523.650000\n",
              "std     18308.499136        119.755634  ...       12.651043     103.661283\n",
              "min     10000.000000         20.126400  ...        3.000000     333.000000\n",
              "25%     37800.000000         21.321950  ...       26.000000     451.000000\n",
              "50%     45000.000000         23.214700  ...       39.000000     510.000000\n",
              "75%     56500.000000         34.638300  ...       50.000000     571.000000\n",
              "max    100000.000000       1799.524000  ...       60.000000     868.000000\n",
              "\n",
              "[8 rows x 16 columns]"
            ]
          },
          "metadata": {
            "tags": []
          },
          "execution_count": 13
        }
      ]
    },
    {
      "cell_type": "code",
      "metadata": {
        "id": "shayFfEH7jd4",
        "outputId": "eacdc580-e7c6-4ad0-a0ec-4914e37435dc",
        "colab": {
          "base_uri": "https://localhost:8080/",
          "height": 459
        }
      },
      "source": [
        "sns.jointplot(x='Num_multiplex',y='Collection',data=train)"
      ],
      "execution_count": null,
      "outputs": [
        {
          "output_type": "execute_result",
          "data": {
            "text/plain": [
              "<seaborn.axisgrid.JointGrid at 0x7fa871984630>"
            ]
          },
          "metadata": {
            "tags": []
          },
          "execution_count": 14
        },
        {
          "output_type": "display_data",
          "data": {
            "image/png": "[encoded data removed]",
            "text/plain": [
              "<Figure size 432x432 with 3 Axes>"
            ]
          },
          "metadata": {
            "tags": [],
            "needs_background": "light"
          }
        }
      ]
    },
    {
      "cell_type": "code",
      "metadata": {
        "id": "y373v9h17t5g",
        "outputId": "d1a3e3f9-7575-4289-a2c7-8aef2fc01952",
        "colab": {
          "base_uri": "https://localhost:8080/",
          "height": 459
        }
      },
      "source": [
        "sns.jointplot(x='Director_rating',y='Collection',data=train)"
      ],
      "execution_count": null,
      "outputs": [
        {
          "output_type": "execute_result",
          "data": {
            "text/plain": [
              "<seaborn.axisgrid.JointGrid at 0x7fa871769ba8>"
            ]
          },
          "metadata": {
            "tags": []
          },
          "execution_count": 15
        },
        {
          "output_type": "display_data",
          "data": {
            "image/png": "[encoded data removed]",
            "text/plain": [
              "<Figure size 432x432 with 3 Axes>"
            ]
          },
          "metadata": {
            "tags": [],
            "needs_background": "light"
          }
        }
      ]
    },
    {
      "cell_type": "code",
      "metadata": {
        "id": "oh-SuZnF71YH",
        "outputId": "7726cf9a-cbb0-47c1-a3da-67beb5385eb4",
        "colab": {
          "base_uri": "https://localhost:8080/",
          "height": 459
        }
      },
      "source": [
        "sns.jointplot(x='Producer_rating',y='Collection',data=train)"
      ],
      "execution_count": null,
      "outputs": [
        {
          "output_type": "execute_result",
          "data": {
            "text/plain": [
              "<seaborn.axisgrid.JointGrid at 0x7fa87168e2e8>"
            ]
          },
          "metadata": {
            "tags": []
          },
          "execution_count": 16
        },
        {
          "output_type": "display_data",
          "data": {
            "image/png": "[encoded data removed]",
            "text/plain": [
              "<Figure size 432x432 with 3 Axes>"
            ]
          },
          "metadata": {
            "tags": [],
            "needs_background": "light"
          }
        }
      ]
    },
    {
      "cell_type": "code",
      "metadata": {
        "id": "2iXxjWf577OU",
        "outputId": "78eb96f4-8b49-4eab-9e88-0feb4c922f81",
        "colab": {
          "base_uri": "https://localhost:8080/",
          "height": 459
        }
      },
      "source": [
        "sns.jointplot(x='Trailer_views',y='Collection',data=train)"
      ],
      "execution_count": null,
      "outputs": [
        {
          "output_type": "execute_result",
          "data": {
            "text/plain": [
              "<seaborn.axisgrid.JointGrid at 0x7fa8716a6128>"
            ]
          },
          "metadata": {
            "tags": []
          },
          "execution_count": 17
        },
        {
          "output_type": "display_data",
          "data": {
            "image/png": "[encoded data removed]",
            "text/plain": [
              "<Figure size 432x432 with 3 Axes>"
            ]
          },
          "metadata": {
            "tags": [],
            "needs_background": "light"
          }
        }
      ]
    },
    {
      "cell_type": "code",
      "metadata": {
        "id": "0tOc7Ajb8GPI",
        "outputId": "1ec989cf-5e47-44e9-a01c-8c0cd9007df2",
        "colab": {
          "base_uri": "https://localhost:8080/",
          "height": 231
        }
      },
      "source": [
        "train.head()"
      ],
      "execution_count": null,
      "outputs": [
        {
          "output_type": "execute_result",
          "data": {
            "text/html": [
              "<div>\n",
              "<style scoped>\n",
              "    .dataframe tbody tr th:only-of-type {\n",
              "        vertical-align: middle;\n",
              "    }\n",
              "\n",
              "    .dataframe tbody tr th {\n",
              "        vertical-align: top;\n",
              "    }\n",
              "\n",
              "    .dataframe thead th {\n",
              "        text-align: right;\n",
              "    }\n",
              "</style>\n",
              "<table border=\"1\" class=\"dataframe\">\n",
              "  <thead>\n",
              "    <tr style=\"text-align: right;\">\n",
              "      <th></th>\n",
              "      <th>Collection</th>\n",
              "      <th>Marketin_expense</th>\n",
              "      <th>Production_expense</th>\n",
              "      <th>Multiplex_coverage</th>\n",
              "      <th>Budget</th>\n",
              "      <th>Movie_length</th>\n",
              "      <th>Lead_ Actor_Rating</th>\n",
              "      <th>Lead_Actress_rating</th>\n",
              "      <th>Director_rating</th>\n",
              "      <th>Producer_rating</th>\n",
              "      <th>Critic_rating</th>\n",
              "      <th>Trailer_views</th>\n",
              "      <th>Time_taken</th>\n",
              "      <th>Twitter_hastags</th>\n",
              "      <th>Genre</th>\n",
              "      <th>Avg_age_actors</th>\n",
              "      <th>MPAA_film_rating</th>\n",
              "      <th>Num_multiplex</th>\n",
              "      <th>3D_available</th>\n",
              "    </tr>\n",
              "  </thead>\n",
              "  <tbody>\n",
              "    <tr>\n",
              "      <th>0</th>\n",
              "      <td>48000</td>\n",
              "      <td>20.1264</td>\n",
              "      <td>59.62</td>\n",
              "      <td>0.462</td>\n",
              "      <td>36524.125</td>\n",
              "      <td>138.7</td>\n",
              "      <td>7.825</td>\n",
              "      <td>8.095</td>\n",
              "      <td>7.910</td>\n",
              "      <td>7.995</td>\n",
              "      <td>7.94</td>\n",
              "      <td>527367</td>\n",
              "      <td>109.60</td>\n",
              "      <td>223.840</td>\n",
              "      <td>Thriller</td>\n",
              "      <td>23</td>\n",
              "      <td>PG</td>\n",
              "      <td>494</td>\n",
              "      <td>YES</td>\n",
              "    </tr>\n",
              "    <tr>\n",
              "      <th>1</th>\n",
              "      <td>43200</td>\n",
              "      <td>20.5462</td>\n",
              "      <td>69.14</td>\n",
              "      <td>0.531</td>\n",
              "      <td>35668.655</td>\n",
              "      <td>152.4</td>\n",
              "      <td>7.505</td>\n",
              "      <td>7.650</td>\n",
              "      <td>7.440</td>\n",
              "      <td>7.470</td>\n",
              "      <td>7.44</td>\n",
              "      <td>494055</td>\n",
              "      <td>146.64</td>\n",
              "      <td>243.456</td>\n",
              "      <td>Drama</td>\n",
              "      <td>42</td>\n",
              "      <td>PG</td>\n",
              "      <td>462</td>\n",
              "      <td>NO</td>\n",
              "    </tr>\n",
              "    <tr>\n",
              "      <th>2</th>\n",
              "      <td>69400</td>\n",
              "      <td>20.5458</td>\n",
              "      <td>69.14</td>\n",
              "      <td>0.531</td>\n",
              "      <td>39912.675</td>\n",
              "      <td>134.6</td>\n",
              "      <td>7.485</td>\n",
              "      <td>7.570</td>\n",
              "      <td>7.495</td>\n",
              "      <td>7.515</td>\n",
              "      <td>7.44</td>\n",
              "      <td>547051</td>\n",
              "      <td>147.88</td>\n",
              "      <td>2022.400</td>\n",
              "      <td>Comedy</td>\n",
              "      <td>38</td>\n",
              "      <td>PG</td>\n",
              "      <td>458</td>\n",
              "      <td>NO</td>\n",
              "    </tr>\n",
              "    <tr>\n",
              "      <th>3</th>\n",
              "      <td>66800</td>\n",
              "      <td>20.6474</td>\n",
              "      <td>59.36</td>\n",
              "      <td>0.542</td>\n",
              "      <td>38873.890</td>\n",
              "      <td>119.3</td>\n",
              "      <td>6.895</td>\n",
              "      <td>7.035</td>\n",
              "      <td>6.920</td>\n",
              "      <td>7.020</td>\n",
              "      <td>8.26</td>\n",
              "      <td>516279</td>\n",
              "      <td>185.36</td>\n",
              "      <td>225.344</td>\n",
              "      <td>Drama</td>\n",
              "      <td>45</td>\n",
              "      <td>PG</td>\n",
              "      <td>472</td>\n",
              "      <td>YES</td>\n",
              "    </tr>\n",
              "    <tr>\n",
              "      <th>4</th>\n",
              "      <td>72400</td>\n",
              "      <td>21.3810</td>\n",
              "      <td>59.36</td>\n",
              "      <td>0.542</td>\n",
              "      <td>39701.585</td>\n",
              "      <td>127.7</td>\n",
              "      <td>6.920</td>\n",
              "      <td>7.070</td>\n",
              "      <td>6.815</td>\n",
              "      <td>7.070</td>\n",
              "      <td>8.26</td>\n",
              "      <td>531448</td>\n",
              "      <td>176.48</td>\n",
              "      <td>225.792</td>\n",
              "      <td>Drama</td>\n",
              "      <td>55</td>\n",
              "      <td>PG</td>\n",
              "      <td>395</td>\n",
              "      <td>NO</td>\n",
              "    </tr>\n",
              "  </tbody>\n",
              "</table>\n",
              "</div>"
            ],
            "text/plain": [
              "   Collection  Marketin_expense  ...  Num_multiplex  3D_available\n",
              "0       48000           20.1264  ...            494           YES\n",
              "1       43200           20.5462  ...            462            NO\n",
              "2       69400           20.5458  ...            458            NO\n",
              "3       66800           20.6474  ...            472           YES\n",
              "4       72400           21.3810  ...            395            NO\n",
              "\n",
              "[5 rows x 19 columns]"
            ]
          },
          "metadata": {
            "tags": []
          },
          "execution_count": 18
        }
      ]
    },
    {
      "cell_type": "code",
      "metadata": {
        "id": "rjz5gACu-Hkv",
        "outputId": "5ec779ab-3858-4b74-804e-96312a80d487",
        "colab": {
          "base_uri": "https://localhost:8080/",
          "height": 298
        }
      },
      "source": [
        "sns.countplot(data=train,y=None,x='3D_available')"
      ],
      "execution_count": null,
      "outputs": [
        {
          "output_type": "execute_result",
          "data": {
            "text/plain": [
              "<matplotlib.axes._subplots.AxesSubplot at 0x7fa871394978>"
            ]
          },
          "metadata": {
            "tags": []
          },
          "execution_count": 19
        },
        {
          "output_type": "display_data",
          "data": {
            "image/png": "[encoded data removed]",
            "text/plain": [
              "<Figure size 432x288 with 1 Axes>"
            ]
          },
          "metadata": {
            "tags": [],
            "needs_background": "light"
          }
        }
      ]
    },
    {
      "cell_type": "code",
      "metadata": {
        "id": "eZKs5rif-gvA",
        "outputId": "2e2c88af-84ae-4979-fb65-1a1437d9b1dc",
        "colab": {
          "base_uri": "https://localhost:8080/",
          "height": 298
        }
      },
      "source": [
        "sns.countplot(data=train,y=None,x='MPAA_film_rating')"
      ],
      "execution_count": null,
      "outputs": [
        {
          "output_type": "execute_result",
          "data": {
            "text/plain": [
              "<matplotlib.axes._subplots.AxesSubplot at 0x7fa871385710>"
            ]
          },
          "metadata": {
            "tags": []
          },
          "execution_count": 20
        },
        {
          "output_type": "display_data",
          "data": {
            "image/png": "[encoded data removed]",
            "text/plain": [
              "<Figure size 432x288 with 1 Axes>"
            ]
          },
          "metadata": {
            "tags": [],
            "needs_background": "light"
          }
        }
      ]
    },
    {
      "cell_type": "code",
      "metadata": {
        "id": "_MFlMaL4-tkS",
        "outputId": "418c489f-a36f-4ba1-c84b-c89ca207686b",
        "colab": {
          "base_uri": "https://localhost:8080/",
          "height": 297
        }
      },
      "source": [
        "sns.countplot(data=train,y=None,x='Genre')"
      ],
      "execution_count": null,
      "outputs": [
        {
          "output_type": "execute_result",
          "data": {
            "text/plain": [
              "<matplotlib.axes._subplots.AxesSubplot at 0x7fa8712e4ba8>"
            ]
          },
          "metadata": {
            "tags": []
          },
          "execution_count": 21
        },
        {
          "output_type": "display_data",
          "data": {
            "image/png": "[encoded data removed]",
            "text/plain": [
              "<Figure size 432x288 with 1 Axes>"
            ]
          },
          "metadata": {
            "tags": [],
            "needs_background": "light"
          }
        }
      ]
    },
    {
      "cell_type": "code",
      "metadata": {
        "id": "QFFVdYup-1B1"
      },
      "source": [
        "#skewed \"Marketin_expense\"\n",
        "#mising values in 'Time_taken'\n",
        "#Outliers in \"Twitter_hastags\" and 'Time_taken'\n",
        "#'MPAA_film_rating' only contains PG"
      ],
      "execution_count": null,
      "outputs": []
    },
    {
      "cell_type": "code",
      "metadata": {
        "id": "l5rIXrkIESCc",
        "outputId": "f6b09b8c-8849-41dd-d888-925dea6356eb",
        "colab": {
          "base_uri": "https://localhost:8080/",
          "height": 479
        }
      },
      "source": [
        "train.info()"
      ],
      "execution_count": null,
      "outputs": [
        {
          "output_type": "stream",
          "text": [
            "<class 'pandas.core.frame.DataFrame'>\n",
            "RangeIndex: 400 entries, 0 to 399\n",
            "Data columns (total 19 columns):\n",
            " #   Column               Non-Null Count  Dtype  \n",
            "---  ------               --------------  -----  \n",
            " 0   Collection           400 non-null    int64  \n",
            " 1   Marketin_expense     400 non-null    float64\n",
            " 2   Production_expense   400 non-null    float64\n",
            " 3   Multiplex_coverage   400 non-null    float64\n",
            " 4   Budget               400 non-null    float64\n",
            " 5   Movie_length         400 non-null    float64\n",
            " 6   Lead_ Actor_Rating   400 non-null    float64\n",
            " 7   Lead_Actress_rating  400 non-null    float64\n",
            " 8   Director_rating      400 non-null    float64\n",
            " 9   Producer_rating      400 non-null    float64\n",
            " 10  Critic_rating        400 non-null    float64\n",
            " 11  Trailer_views        400 non-null    int64  \n",
            " 12  Time_taken           392 non-null    float64\n",
            " 13  Twitter_hastags      400 non-null    float64\n",
            " 14  Genre                400 non-null    object \n",
            " 15  Avg_age_actors       400 non-null    int64  \n",
            " 16  MPAA_film_rating     400 non-null    object \n",
            " 17  Num_multiplex        400 non-null    int64  \n",
            " 18  3D_available         400 non-null    object \n",
            "dtypes: float64(12), int64(4), object(3)\n",
            "memory usage: 59.5+ KB\n"
          ],
          "name": "stdout"
        }
      ]
    },
    {
      "cell_type": "code",
      "metadata": {
        "id": "44DiOqwUEUQx"
      },
      "source": [
        "import numpy as np"
      ],
      "execution_count": null,
      "outputs": []
    },
    {
      "cell_type": "code",
      "metadata": {
        "id": "-Y4qm1gSGC3U",
        "outputId": "5b7b7fbe-dbea-4cd5-8ce6-0ffbb9dae2a7",
        "colab": {
          "base_uri": "https://localhost:8080/",
          "height": 35
        }
      },
      "source": [
        "np.percentile(train.Twitter_hastags,[99])"
      ],
      "execution_count": null,
      "outputs": [
        {
          "output_type": "execute_result",
          "data": {
            "text/plain": [
              "array([308.])"
            ]
          },
          "metadata": {
            "tags": []
          },
          "execution_count": 25
        }
      ]
    },
    {
      "cell_type": "code",
      "metadata": {
        "id": "PAePJW1ZGUhp",
        "outputId": "30d0ba1f-1a08-4420-fc85-930240c3d4fa",
        "colab": {
          "base_uri": "https://localhost:8080/",
          "height": 35
        }
      },
      "source": [
        "np.percentile(train.Twitter_hastags,[99])[0]"
      ],
      "execution_count": null,
      "outputs": [
        {
          "output_type": "execute_result",
          "data": {
            "text/plain": [
              "308.0"
            ]
          },
          "metadata": {
            "tags": []
          },
          "execution_count": 26
        }
      ]
    },
    {
      "cell_type": "code",
      "metadata": {
        "id": "qY1Wm981GdeU"
      },
      "source": [
        "uv=np.percentile(train.Twitter_hastags,[99])[0]"
      ],
      "execution_count": null,
      "outputs": []
    },
    {
      "cell_type": "code",
      "metadata": {
        "id": "PjtKzL2yGkel",
        "outputId": "abb18221-1ae5-420a-f944-50063e48da00",
        "colab": {
          "base_uri": "https://localhost:8080/",
          "height": 113
        }
      },
      "source": [
        "train[(train.Twitter_hastags > uv)]"
      ],
      "execution_count": null,
      "outputs": [
        {
          "output_type": "execute_result",
          "data": {
            "text/html": [
              "<div>\n",
              "<style scoped>\n",
              "    .dataframe tbody tr th:only-of-type {\n",
              "        vertical-align: middle;\n",
              "    }\n",
              "\n",
              "    .dataframe tbody tr th {\n",
              "        vertical-align: top;\n",
              "    }\n",
              "\n",
              "    .dataframe thead th {\n",
              "        text-align: right;\n",
              "    }\n",
              "</style>\n",
              "<table border=\"1\" class=\"dataframe\">\n",
              "  <thead>\n",
              "    <tr style=\"text-align: right;\">\n",
              "      <th></th>\n",
              "      <th>Collection</th>\n",
              "      <th>Marketin_expense</th>\n",
              "      <th>Production_expense</th>\n",
              "      <th>Multiplex_coverage</th>\n",
              "      <th>Budget</th>\n",
              "      <th>Movie_length</th>\n",
              "      <th>Lead_ Actor_Rating</th>\n",
              "      <th>Lead_Actress_rating</th>\n",
              "      <th>Director_rating</th>\n",
              "      <th>Producer_rating</th>\n",
              "      <th>Critic_rating</th>\n",
              "      <th>Trailer_views</th>\n",
              "      <th>Time_taken</th>\n",
              "      <th>Twitter_hastags</th>\n",
              "      <th>Genre</th>\n",
              "      <th>Avg_age_actors</th>\n",
              "      <th>MPAA_film_rating</th>\n",
              "      <th>Num_multiplex</th>\n",
              "      <th>3D_available</th>\n",
              "    </tr>\n",
              "  </thead>\n",
              "  <tbody>\n",
              "    <tr>\n",
              "      <th>2</th>\n",
              "      <td>69400</td>\n",
              "      <td>20.5458</td>\n",
              "      <td>69.14</td>\n",
              "      <td>0.531</td>\n",
              "      <td>39912.675</td>\n",
              "      <td>134.6</td>\n",
              "      <td>7.485</td>\n",
              "      <td>7.57</td>\n",
              "      <td>7.495</td>\n",
              "      <td>7.515</td>\n",
              "      <td>7.44</td>\n",
              "      <td>547051</td>\n",
              "      <td>147.88</td>\n",
              "      <td>2022.4</td>\n",
              "      <td>Comedy</td>\n",
              "      <td>38</td>\n",
              "      <td>PG</td>\n",
              "      <td>458</td>\n",
              "      <td>NO</td>\n",
              "    </tr>\n",
              "  </tbody>\n",
              "</table>\n",
              "</div>"
            ],
            "text/plain": [
              "   Collection  Marketin_expense  ...  Num_multiplex  3D_available\n",
              "2       69400           20.5458  ...            458            NO\n",
              "\n",
              "[1 rows x 19 columns]"
            ]
          },
          "metadata": {
            "tags": []
          },
          "execution_count": 28
        }
      ]
    },
    {
      "cell_type": "code",
      "metadata": {
        "id": "Rk6Bn5x_HJrY",
        "outputId": "4c778c23-f4aa-4fc2-d4a1-7be37a9978b7",
        "colab": {
          "base_uri": "https://localhost:8080/",
          "height": 126
        }
      },
      "source": [
        "train.Twitter_hastags[(train.Twitter_hastags > 3*uv)]=3*uv"
      ],
      "execution_count": null,
      "outputs": [
        {
          "output_type": "stream",
          "text": [
            "/usr/local/lib/python3.6/dist-packages/ipykernel_launcher.py:1: SettingWithCopyWarning: \n",
            "A value is trying to be set on a copy of a slice from a DataFrame\n",
            "\n",
            "See the caveats in the documentation: https://pandas.pydata.org/pandas-docs/stable/user_guide/indexing.html#returning-a-view-versus-a-copy\n",
            "  \"\"\"Entry point for launching an IPython kernel.\n"
          ],
          "name": "stderr"
        }
      ]
    },
    {
      "cell_type": "code",
      "metadata": {
        "id": "2QcYI2v_IG7t",
        "outputId": "cb3a3924-4aaf-41cb-dd6c-1a7d0225499b",
        "colab": {
          "base_uri": "https://localhost:8080/",
          "height": 113
        }
      },
      "source": [
        "train[(train.Twitter_hastags > uv)]"
      ],
      "execution_count": null,
      "outputs": [
        {
          "output_type": "execute_result",
          "data": {
            "text/html": [
              "<div>\n",
              "<style scoped>\n",
              "    .dataframe tbody tr th:only-of-type {\n",
              "        vertical-align: middle;\n",
              "    }\n",
              "\n",
              "    .dataframe tbody tr th {\n",
              "        vertical-align: top;\n",
              "    }\n",
              "\n",
              "    .dataframe thead th {\n",
              "        text-align: right;\n",
              "    }\n",
              "</style>\n",
              "<table border=\"1\" class=\"dataframe\">\n",
              "  <thead>\n",
              "    <tr style=\"text-align: right;\">\n",
              "      <th></th>\n",
              "      <th>Collection</th>\n",
              "      <th>Marketin_expense</th>\n",
              "      <th>Production_expense</th>\n",
              "      <th>Multiplex_coverage</th>\n",
              "      <th>Budget</th>\n",
              "      <th>Movie_length</th>\n",
              "      <th>Lead_ Actor_Rating</th>\n",
              "      <th>Lead_Actress_rating</th>\n",
              "      <th>Director_rating</th>\n",
              "      <th>Producer_rating</th>\n",
              "      <th>Critic_rating</th>\n",
              "      <th>Trailer_views</th>\n",
              "      <th>Time_taken</th>\n",
              "      <th>Twitter_hastags</th>\n",
              "      <th>Genre</th>\n",
              "      <th>Avg_age_actors</th>\n",
              "      <th>MPAA_film_rating</th>\n",
              "      <th>Num_multiplex</th>\n",
              "      <th>3D_available</th>\n",
              "    </tr>\n",
              "  </thead>\n",
              "  <tbody>\n",
              "    <tr>\n",
              "      <th>2</th>\n",
              "      <td>69400</td>\n",
              "      <td>20.5458</td>\n",
              "      <td>69.14</td>\n",
              "      <td>0.531</td>\n",
              "      <td>39912.675</td>\n",
              "      <td>134.6</td>\n",
              "      <td>7.485</td>\n",
              "      <td>7.57</td>\n",
              "      <td>7.495</td>\n",
              "      <td>7.515</td>\n",
              "      <td>7.44</td>\n",
              "      <td>547051</td>\n",
              "      <td>147.88</td>\n",
              "      <td>924.0</td>\n",
              "      <td>Comedy</td>\n",
              "      <td>38</td>\n",
              "      <td>PG</td>\n",
              "      <td>458</td>\n",
              "      <td>NO</td>\n",
              "    </tr>\n",
              "  </tbody>\n",
              "</table>\n",
              "</div>"
            ],
            "text/plain": [
              "   Collection  Marketin_expense  ...  Num_multiplex  3D_available\n",
              "2       69400           20.5458  ...            458            NO\n",
              "\n",
              "[1 rows x 19 columns]"
            ]
          },
          "metadata": {
            "tags": []
          },
          "execution_count": 30
        }
      ]
    },
    {
      "cell_type": "code",
      "metadata": {
        "id": "WrRGKDnTIRwe"
      },
      "source": [
        "lv=np.percentile(train.Time_taken,[50])[0]"
      ],
      "execution_count": null,
      "outputs": []
    },
    {
      "cell_type": "code",
      "metadata": {
        "id": "zX7UXBoFIjpP",
        "outputId": "ccb84b43-3d3d-46fc-ded7-c8331543a31c",
        "colab": {
          "base_uri": "https://localhost:8080/",
          "height": 84
        }
      },
      "source": [
        "train[(train.Time_taken < lv)]"
      ],
      "execution_count": null,
      "outputs": [
        {
          "output_type": "execute_result",
          "data": {
            "text/html": [
              "<div>\n",
              "<style scoped>\n",
              "    .dataframe tbody tr th:only-of-type {\n",
              "        vertical-align: middle;\n",
              "    }\n",
              "\n",
              "    .dataframe tbody tr th {\n",
              "        vertical-align: top;\n",
              "    }\n",
              "\n",
              "    .dataframe thead th {\n",
              "        text-align: right;\n",
              "    }\n",
              "</style>\n",
              "<table border=\"1\" class=\"dataframe\">\n",
              "  <thead>\n",
              "    <tr style=\"text-align: right;\">\n",
              "      <th></th>\n",
              "      <th>Collection</th>\n",
              "      <th>Marketin_expense</th>\n",
              "      <th>Production_expense</th>\n",
              "      <th>Multiplex_coverage</th>\n",
              "      <th>Budget</th>\n",
              "      <th>Movie_length</th>\n",
              "      <th>Lead_ Actor_Rating</th>\n",
              "      <th>Lead_Actress_rating</th>\n",
              "      <th>Director_rating</th>\n",
              "      <th>Producer_rating</th>\n",
              "      <th>Critic_rating</th>\n",
              "      <th>Trailer_views</th>\n",
              "      <th>Time_taken</th>\n",
              "      <th>Twitter_hastags</th>\n",
              "      <th>Genre</th>\n",
              "      <th>Avg_age_actors</th>\n",
              "      <th>MPAA_film_rating</th>\n",
              "      <th>Num_multiplex</th>\n",
              "      <th>3D_available</th>\n",
              "    </tr>\n",
              "  </thead>\n",
              "  <tbody>\n",
              "  </tbody>\n",
              "</table>\n",
              "</div>"
            ],
            "text/plain": [
              "Empty DataFrame\n",
              "Columns: [Collection, Marketin_expense, Production_expense, Multiplex_coverage, Budget, Movie_length, Lead_ Actor_Rating, Lead_Actress_rating, Director_rating, Producer_rating, Critic_rating, Trailer_views, Time_taken, Twitter_hastags, Genre, Avg_age_actors, MPAA_film_rating, Num_multiplex, 3D_available]\n",
              "Index: []"
            ]
          },
          "metadata": {
            "tags": []
          },
          "execution_count": 32
        }
      ]
    },
    {
      "cell_type": "code",
      "metadata": {
        "id": "8nQmHYMRJYk6",
        "outputId": "a8c5685f-d6fd-4df3-96e8-e38911b8ea63",
        "colab": {
          "base_uri": "https://localhost:8080/",
          "height": 459
        }
      },
      "source": [
        "sns.jointplot(x=\"Marketin_expense\",y=\"Collection\",data=train)"
      ],
      "execution_count": null,
      "outputs": [
        {
          "output_type": "execute_result",
          "data": {
            "text/plain": [
              "<seaborn.axisgrid.JointGrid at 0x7fa871e87908>"
            ]
          },
          "metadata": {
            "tags": []
          },
          "execution_count": 33
        },
        {
          "output_type": "display_data",
          "data": {
            "image/png": "[encoded data removed]",
            "text/plain": [
              "<Figure size 432x432 with 3 Axes>"
            ]
          },
          "metadata": {
            "tags": [],
            "needs_background": "light"
          }
        }
      ]
    },
    {
      "cell_type": "code",
      "metadata": {
        "id": "jGDVQ6ExSnfq",
        "outputId": "2568876c-8cba-4de1-afb9-a5b9063dff73",
        "colab": {
          "base_uri": "https://localhost:8080/",
          "height": 479
        }
      },
      "source": [
        "train.info()"
      ],
      "execution_count": null,
      "outputs": [
        {
          "output_type": "stream",
          "text": [
            "<class 'pandas.core.frame.DataFrame'>\n",
            "RangeIndex: 400 entries, 0 to 399\n",
            "Data columns (total 19 columns):\n",
            " #   Column               Non-Null Count  Dtype  \n",
            "---  ------               --------------  -----  \n",
            " 0   Collection           400 non-null    int64  \n",
            " 1   Marketin_expense     400 non-null    float64\n",
            " 2   Production_expense   400 non-null    float64\n",
            " 3   Multiplex_coverage   400 non-null    float64\n",
            " 4   Budget               400 non-null    float64\n",
            " 5   Movie_length         400 non-null    float64\n",
            " 6   Lead_ Actor_Rating   400 non-null    float64\n",
            " 7   Lead_Actress_rating  400 non-null    float64\n",
            " 8   Director_rating      400 non-null    float64\n",
            " 9   Producer_rating      400 non-null    float64\n",
            " 10  Critic_rating        400 non-null    float64\n",
            " 11  Trailer_views        400 non-null    int64  \n",
            " 12  Time_taken           392 non-null    float64\n",
            " 13  Twitter_hastags      400 non-null    float64\n",
            " 14  Genre                400 non-null    object \n",
            " 15  Avg_age_actors       400 non-null    int64  \n",
            " 16  MPAA_film_rating     400 non-null    object \n",
            " 17  Num_multiplex        400 non-null    int64  \n",
            " 18  3D_available         400 non-null    object \n",
            "dtypes: float64(12), int64(4), object(3)\n",
            "memory usage: 59.5+ KB\n"
          ],
          "name": "stdout"
        }
      ]
    },
    {
      "cell_type": "code",
      "metadata": {
        "id": "K2VsrYmWT0Y9"
      },
      "source": [
        "train.Time_taken=train.Time_taken.fillna(train.Time_taken.mean())"
      ],
      "execution_count": null,
      "outputs": []
    },
    {
      "cell_type": "code",
      "metadata": {
        "id": "D12lPDW45bPw",
        "outputId": "64b96cbc-986a-4cca-bb11-7ae329d8a849",
        "colab": {
          "base_uri": "https://localhost:8080/",
          "height": 479
        }
      },
      "source": [
        "train.info()"
      ],
      "execution_count": null,
      "outputs": [
        {
          "output_type": "stream",
          "text": [
            "<class 'pandas.core.frame.DataFrame'>\n",
            "RangeIndex: 400 entries, 0 to 399\n",
            "Data columns (total 19 columns):\n",
            " #   Column               Non-Null Count  Dtype  \n",
            "---  ------               --------------  -----  \n",
            " 0   Collection           400 non-null    int64  \n",
            " 1   Marketin_expense     400 non-null    float64\n",
            " 2   Production_expense   400 non-null    float64\n",
            " 3   Multiplex_coverage   400 non-null    float64\n",
            " 4   Budget               400 non-null    float64\n",
            " 5   Movie_length         400 non-null    float64\n",
            " 6   Lead_ Actor_Rating   400 non-null    float64\n",
            " 7   Lead_Actress_rating  400 non-null    float64\n",
            " 8   Director_rating      400 non-null    float64\n",
            " 9   Producer_rating      400 non-null    float64\n",
            " 10  Critic_rating        400 non-null    float64\n",
            " 11  Trailer_views        400 non-null    int64  \n",
            " 12  Time_taken           400 non-null    float64\n",
            " 13  Twitter_hastags      400 non-null    float64\n",
            " 14  Genre                400 non-null    object \n",
            " 15  Avg_age_actors       400 non-null    int64  \n",
            " 16  MPAA_film_rating     400 non-null    object \n",
            " 17  Num_multiplex        400 non-null    int64  \n",
            " 18  3D_available         400 non-null    object \n",
            "dtypes: float64(12), int64(4), object(3)\n",
            "memory usage: 59.5+ KB\n"
          ],
          "name": "stdout"
        }
      ]
    },
    {
      "cell_type": "code",
      "metadata": {
        "id": "Ue7oT9Vi5eV9",
        "outputId": "1fe15d3c-2a28-40aa-cff4-58dd92aceec0",
        "colab": {
          "base_uri": "https://localhost:8080/",
          "height": 319
        }
      },
      "source": [
        "train.describe()"
      ],
      "execution_count": null,
      "outputs": [
        {
          "output_type": "execute_result",
          "data": {
            "text/html": [
              "<div>\n",
              "<style scoped>\n",
              "    .dataframe tbody tr th:only-of-type {\n",
              "        vertical-align: middle;\n",
              "    }\n",
              "\n",
              "    .dataframe tbody tr th {\n",
              "        vertical-align: top;\n",
              "    }\n",
              "\n",
              "    .dataframe thead th {\n",
              "        text-align: right;\n",
              "    }\n",
              "</style>\n",
              "<table border=\"1\" class=\"dataframe\">\n",
              "  <thead>\n",
              "    <tr style=\"text-align: right;\">\n",
              "      <th></th>\n",
              "      <th>Collection</th>\n",
              "      <th>Marketin_expense</th>\n",
              "      <th>Production_expense</th>\n",
              "      <th>Multiplex_coverage</th>\n",
              "      <th>Budget</th>\n",
              "      <th>Movie_length</th>\n",
              "      <th>Lead_ Actor_Rating</th>\n",
              "      <th>Lead_Actress_rating</th>\n",
              "      <th>Director_rating</th>\n",
              "      <th>Producer_rating</th>\n",
              "      <th>Critic_rating</th>\n",
              "      <th>Trailer_views</th>\n",
              "      <th>Time_taken</th>\n",
              "      <th>Twitter_hastags</th>\n",
              "      <th>Avg_age_actors</th>\n",
              "      <th>Num_multiplex</th>\n",
              "    </tr>\n",
              "  </thead>\n",
              "  <tbody>\n",
              "    <tr>\n",
              "      <th>count</th>\n",
              "      <td>400.000000</td>\n",
              "      <td>400.000000</td>\n",
              "      <td>400.000000</td>\n",
              "      <td>400.000000</td>\n",
              "      <td>400.000000</td>\n",
              "      <td>400.000000</td>\n",
              "      <td>400.000000</td>\n",
              "      <td>400.000000</td>\n",
              "      <td>400.000000</td>\n",
              "      <td>400.000000</td>\n",
              "      <td>400.000000</td>\n",
              "      <td>400.000000</td>\n",
              "      <td>400.000000</td>\n",
              "      <td>400.000000</td>\n",
              "      <td>400.000000</td>\n",
              "      <td>400.000000</td>\n",
              "    </tr>\n",
              "    <tr>\n",
              "      <th>mean</th>\n",
              "      <td>48646.500000</td>\n",
              "      <td>55.017180</td>\n",
              "      <td>73.832700</td>\n",
              "      <td>0.469881</td>\n",
              "      <td>35197.771537</td>\n",
              "      <td>137.581750</td>\n",
              "      <td>7.810275</td>\n",
              "      <td>7.982812</td>\n",
              "      <td>7.813375</td>\n",
              "      <td>7.993887</td>\n",
              "      <td>7.894100</td>\n",
              "      <td>463223.567500</td>\n",
              "      <td>157.790000</td>\n",
              "      <td>255.337840</td>\n",
              "      <td>38.715000</td>\n",
              "      <td>523.650000</td>\n",
              "    </tr>\n",
              "    <tr>\n",
              "      <th>std</th>\n",
              "      <td>18308.499136</td>\n",
              "      <td>119.755634</td>\n",
              "      <td>13.023426</td>\n",
              "      <td>0.113920</td>\n",
              "      <td>4075.766926</td>\n",
              "      <td>28.990673</td>\n",
              "      <td>1.088694</td>\n",
              "      <td>1.089923</td>\n",
              "      <td>1.093581</td>\n",
              "      <td>1.088619</td>\n",
              "      <td>0.672413</td>\n",
              "      <td>65225.567649</td>\n",
              "      <td>31.403877</td>\n",
              "      <td>47.492326</td>\n",
              "      <td>12.651043</td>\n",
              "      <td>103.661283</td>\n",
              "    </tr>\n",
              "    <tr>\n",
              "      <th>min</th>\n",
              "      <td>10000.000000</td>\n",
              "      <td>20.126400</td>\n",
              "      <td>55.920000</td>\n",
              "      <td>0.129000</td>\n",
              "      <td>19781.355000</td>\n",
              "      <td>76.400000</td>\n",
              "      <td>3.840000</td>\n",
              "      <td>4.035000</td>\n",
              "      <td>3.840000</td>\n",
              "      <td>4.030000</td>\n",
              "      <td>6.600000</td>\n",
              "      <td>215432.000000</td>\n",
              "      <td>0.000000</td>\n",
              "      <td>201.632000</td>\n",
              "      <td>3.000000</td>\n",
              "      <td>333.000000</td>\n",
              "    </tr>\n",
              "    <tr>\n",
              "      <th>25%</th>\n",
              "      <td>37800.000000</td>\n",
              "      <td>21.321950</td>\n",
              "      <td>63.250000</td>\n",
              "      <td>0.419000</td>\n",
              "      <td>32721.727500</td>\n",
              "      <td>111.175000</td>\n",
              "      <td>7.092500</td>\n",
              "      <td>7.252500</td>\n",
              "      <td>7.123750</td>\n",
              "      <td>7.273750</td>\n",
              "      <td>7.320000</td>\n",
              "      <td>436793.500000</td>\n",
              "      <td>133.550000</td>\n",
              "      <td>223.804000</td>\n",
              "      <td>26.000000</td>\n",
              "      <td>451.000000</td>\n",
              "    </tr>\n",
              "    <tr>\n",
              "      <th>50%</th>\n",
              "      <td>45000.000000</td>\n",
              "      <td>23.214700</td>\n",
              "      <td>69.030000</td>\n",
              "      <td>0.494500</td>\n",
              "      <td>34593.762500</td>\n",
              "      <td>142.250000</td>\n",
              "      <td>7.995000</td>\n",
              "      <td>8.157500</td>\n",
              "      <td>7.990000</td>\n",
              "      <td>8.140000</td>\n",
              "      <td>7.960000</td>\n",
              "      <td>474930.000000</td>\n",
              "      <td>158.760000</td>\n",
              "      <td>246.680000</td>\n",
              "      <td>39.000000</td>\n",
              "      <td>510.000000</td>\n",
              "    </tr>\n",
              "    <tr>\n",
              "      <th>75%</th>\n",
              "      <td>56500.000000</td>\n",
              "      <td>34.638300</td>\n",
              "      <td>82.840000</td>\n",
              "      <td>0.558000</td>\n",
              "      <td>37142.118750</td>\n",
              "      <td>165.400000</td>\n",
              "      <td>8.725000</td>\n",
              "      <td>8.912500</td>\n",
              "      <td>8.740000</td>\n",
              "      <td>8.931250</td>\n",
              "      <td>8.400000</td>\n",
              "      <td>507690.500000</td>\n",
              "      <td>182.890000</td>\n",
              "      <td>283.444000</td>\n",
              "      <td>50.000000</td>\n",
              "      <td>571.000000</td>\n",
              "    </tr>\n",
              "    <tr>\n",
              "      <th>max</th>\n",
              "      <td>100000.000000</td>\n",
              "      <td>1799.524000</td>\n",
              "      <td>106.300000</td>\n",
              "      <td>0.615000</td>\n",
              "      <td>48772.900000</td>\n",
              "      <td>173.500000</td>\n",
              "      <td>9.435000</td>\n",
              "      <td>9.540000</td>\n",
              "      <td>9.425000</td>\n",
              "      <td>9.635000</td>\n",
              "      <td>9.400000</td>\n",
              "      <td>567784.000000</td>\n",
              "      <td>217.520000</td>\n",
              "      <td>924.000000</td>\n",
              "      <td>60.000000</td>\n",
              "      <td>868.000000</td>\n",
              "    </tr>\n",
              "  </tbody>\n",
              "</table>\n",
              "</div>"
            ],
            "text/plain": [
              "          Collection  Marketin_expense  ...  Avg_age_actors  Num_multiplex\n",
              "count     400.000000        400.000000  ...      400.000000     400.000000\n",
              "mean    48646.500000         55.017180  ...       38.715000     523.650000\n",
              "std     18308.499136        119.755634  ...       12.651043     103.661283\n",
              "min     10000.000000         20.126400  ...        3.000000     333.000000\n",
              "25%     37800.000000         21.321950  ...       26.000000     451.000000\n",
              "50%     45000.000000         23.214700  ...       39.000000     510.000000\n",
              "75%     56500.000000         34.638300  ...       50.000000     571.000000\n",
              "max    100000.000000       1799.524000  ...       60.000000     868.000000\n",
              "\n",
              "[8 rows x 16 columns]"
            ]
          },
          "metadata": {
            "tags": []
          },
          "execution_count": 37
        }
      ]
    },
    {
      "cell_type": "code",
      "metadata": {
        "id": "KIN2yi5EPfwQ"
      },
      "source": [
        "train['avg_rating']=(train['Lead_ Actor_Rating'] + train['Lead_Actress_rating'] + train['Director_rating'] + train['Producer_rating'])/4"
      ],
      "execution_count": null,
      "outputs": []
    },
    {
      "cell_type": "code",
      "metadata": {
        "id": "fabWXtVrRKvs",
        "outputId": "679bc460-111a-4bf6-bb85-b79577b54d8a",
        "colab": {
          "base_uri": "https://localhost:8080/",
          "height": 319
        }
      },
      "source": [
        "train.describe()"
      ],
      "execution_count": null,
      "outputs": [
        {
          "output_type": "execute_result",
          "data": {
            "text/html": [
              "<div>\n",
              "<style scoped>\n",
              "    .dataframe tbody tr th:only-of-type {\n",
              "        vertical-align: middle;\n",
              "    }\n",
              "\n",
              "    .dataframe tbody tr th {\n",
              "        vertical-align: top;\n",
              "    }\n",
              "\n",
              "    .dataframe thead th {\n",
              "        text-align: right;\n",
              "    }\n",
              "</style>\n",
              "<table border=\"1\" class=\"dataframe\">\n",
              "  <thead>\n",
              "    <tr style=\"text-align: right;\">\n",
              "      <th></th>\n",
              "      <th>Collection</th>\n",
              "      <th>Marketin_expense</th>\n",
              "      <th>Production_expense</th>\n",
              "      <th>Multiplex_coverage</th>\n",
              "      <th>Budget</th>\n",
              "      <th>Movie_length</th>\n",
              "      <th>Lead_ Actor_Rating</th>\n",
              "      <th>Lead_Actress_rating</th>\n",
              "      <th>Director_rating</th>\n",
              "      <th>Producer_rating</th>\n",
              "      <th>Critic_rating</th>\n",
              "      <th>Trailer_views</th>\n",
              "      <th>Time_taken</th>\n",
              "      <th>Twitter_hastags</th>\n",
              "      <th>Avg_age_actors</th>\n",
              "      <th>Num_multiplex</th>\n",
              "      <th>avg_rating</th>\n",
              "    </tr>\n",
              "  </thead>\n",
              "  <tbody>\n",
              "    <tr>\n",
              "      <th>count</th>\n",
              "      <td>400.000000</td>\n",
              "      <td>400.000000</td>\n",
              "      <td>400.000000</td>\n",
              "      <td>400.000000</td>\n",
              "      <td>400.000000</td>\n",
              "      <td>400.000000</td>\n",
              "      <td>400.000000</td>\n",
              "      <td>400.000000</td>\n",
              "      <td>400.000000</td>\n",
              "      <td>400.000000</td>\n",
              "      <td>400.000000</td>\n",
              "      <td>400.000000</td>\n",
              "      <td>400.000000</td>\n",
              "      <td>400.000000</td>\n",
              "      <td>400.000000</td>\n",
              "      <td>400.000000</td>\n",
              "      <td>400.000000</td>\n",
              "    </tr>\n",
              "    <tr>\n",
              "      <th>mean</th>\n",
              "      <td>48646.500000</td>\n",
              "      <td>55.017180</td>\n",
              "      <td>73.832700</td>\n",
              "      <td>0.469881</td>\n",
              "      <td>35197.771537</td>\n",
              "      <td>137.581750</td>\n",
              "      <td>7.810275</td>\n",
              "      <td>7.982812</td>\n",
              "      <td>7.813375</td>\n",
              "      <td>7.993887</td>\n",
              "      <td>7.894100</td>\n",
              "      <td>463223.567500</td>\n",
              "      <td>157.790000</td>\n",
              "      <td>255.337840</td>\n",
              "      <td>38.715000</td>\n",
              "      <td>523.650000</td>\n",
              "      <td>7.900088</td>\n",
              "    </tr>\n",
              "    <tr>\n",
              "      <th>std</th>\n",
              "      <td>18308.499136</td>\n",
              "      <td>119.755634</td>\n",
              "      <td>13.023426</td>\n",
              "      <td>0.113920</td>\n",
              "      <td>4075.766926</td>\n",
              "      <td>28.990673</td>\n",
              "      <td>1.088694</td>\n",
              "      <td>1.089923</td>\n",
              "      <td>1.093581</td>\n",
              "      <td>1.088619</td>\n",
              "      <td>0.672413</td>\n",
              "      <td>65225.567649</td>\n",
              "      <td>31.403877</td>\n",
              "      <td>47.492326</td>\n",
              "      <td>12.651043</td>\n",
              "      <td>103.661283</td>\n",
              "      <td>1.088704</td>\n",
              "    </tr>\n",
              "    <tr>\n",
              "      <th>min</th>\n",
              "      <td>10000.000000</td>\n",
              "      <td>20.126400</td>\n",
              "      <td>55.920000</td>\n",
              "      <td>0.129000</td>\n",
              "      <td>19781.355000</td>\n",
              "      <td>76.400000</td>\n",
              "      <td>3.840000</td>\n",
              "      <td>4.035000</td>\n",
              "      <td>3.840000</td>\n",
              "      <td>4.030000</td>\n",
              "      <td>6.600000</td>\n",
              "      <td>215432.000000</td>\n",
              "      <td>0.000000</td>\n",
              "      <td>201.632000</td>\n",
              "      <td>3.000000</td>\n",
              "      <td>333.000000</td>\n",
              "      <td>3.936250</td>\n",
              "    </tr>\n",
              "    <tr>\n",
              "      <th>25%</th>\n",
              "      <td>37800.000000</td>\n",
              "      <td>21.321950</td>\n",
              "      <td>63.250000</td>\n",
              "      <td>0.419000</td>\n",
              "      <td>32721.727500</td>\n",
              "      <td>111.175000</td>\n",
              "      <td>7.092500</td>\n",
              "      <td>7.252500</td>\n",
              "      <td>7.123750</td>\n",
              "      <td>7.273750</td>\n",
              "      <td>7.320000</td>\n",
              "      <td>436793.500000</td>\n",
              "      <td>133.550000</td>\n",
              "      <td>223.804000</td>\n",
              "      <td>26.000000</td>\n",
              "      <td>451.000000</td>\n",
              "      <td>7.170000</td>\n",
              "    </tr>\n",
              "    <tr>\n",
              "      <th>50%</th>\n",
              "      <td>45000.000000</td>\n",
              "      <td>23.214700</td>\n",
              "      <td>69.030000</td>\n",
              "      <td>0.494500</td>\n",
              "      <td>34593.762500</td>\n",
              "      <td>142.250000</td>\n",
              "      <td>7.995000</td>\n",
              "      <td>8.157500</td>\n",
              "      <td>7.990000</td>\n",
              "      <td>8.140000</td>\n",
              "      <td>7.960000</td>\n",
              "      <td>474930.000000</td>\n",
              "      <td>158.760000</td>\n",
              "      <td>246.680000</td>\n",
              "      <td>39.000000</td>\n",
              "      <td>510.000000</td>\n",
              "      <td>8.062500</td>\n",
              "    </tr>\n",
              "    <tr>\n",
              "      <th>75%</th>\n",
              "      <td>56500.000000</td>\n",
              "      <td>34.638300</td>\n",
              "      <td>82.840000</td>\n",
              "      <td>0.558000</td>\n",
              "      <td>37142.118750</td>\n",
              "      <td>165.400000</td>\n",
              "      <td>8.725000</td>\n",
              "      <td>8.912500</td>\n",
              "      <td>8.740000</td>\n",
              "      <td>8.931250</td>\n",
              "      <td>8.400000</td>\n",
              "      <td>507690.500000</td>\n",
              "      <td>182.890000</td>\n",
              "      <td>283.444000</td>\n",
              "      <td>50.000000</td>\n",
              "      <td>571.000000</td>\n",
              "      <td>8.828750</td>\n",
              "    </tr>\n",
              "    <tr>\n",
              "      <th>max</th>\n",
              "      <td>100000.000000</td>\n",
              "      <td>1799.524000</td>\n",
              "      <td>106.300000</td>\n",
              "      <td>0.615000</td>\n",
              "      <td>48772.900000</td>\n",
              "      <td>173.500000</td>\n",
              "      <td>9.435000</td>\n",
              "      <td>9.540000</td>\n",
              "      <td>9.425000</td>\n",
              "      <td>9.635000</td>\n",
              "      <td>9.400000</td>\n",
              "      <td>567784.000000</td>\n",
              "      <td>217.520000</td>\n",
              "      <td>924.000000</td>\n",
              "      <td>60.000000</td>\n",
              "      <td>868.000000</td>\n",
              "      <td>9.436250</td>\n",
              "    </tr>\n",
              "  </tbody>\n",
              "</table>\n",
              "</div>"
            ],
            "text/plain": [
              "          Collection  Marketin_expense  ...  Num_multiplex  avg_rating\n",
              "count     400.000000        400.000000  ...     400.000000  400.000000\n",
              "mean    48646.500000         55.017180  ...     523.650000    7.900088\n",
              "std     18308.499136        119.755634  ...     103.661283    1.088704\n",
              "min     10000.000000         20.126400  ...     333.000000    3.936250\n",
              "25%     37800.000000         21.321950  ...     451.000000    7.170000\n",
              "50%     45000.000000         23.214700  ...     510.000000    8.062500\n",
              "75%     56500.000000         34.638300  ...     571.000000    8.828750\n",
              "max    100000.000000       1799.524000  ...     868.000000    9.436250\n",
              "\n",
              "[8 rows x 17 columns]"
            ]
          },
          "metadata": {
            "tags": []
          },
          "execution_count": 39
        }
      ]
    },
    {
      "cell_type": "code",
      "metadata": {
        "id": "LwHIpwOvShZm"
      },
      "source": [
        "del train['Lead_ Actor_Rating'] "
      ],
      "execution_count": null,
      "outputs": []
    },
    {
      "cell_type": "code",
      "metadata": {
        "id": "n3q-jUivS34f"
      },
      "source": [
        "del train['Lead_Actress_rating'] "
      ],
      "execution_count": null,
      "outputs": []
    },
    {
      "cell_type": "code",
      "metadata": {
        "id": "YR58zDBaS9Wb"
      },
      "source": [
        "del  train['Director_rating'] "
      ],
      "execution_count": null,
      "outputs": []
    },
    {
      "cell_type": "code",
      "metadata": {
        "id": "mpnEBTQ3TDX4"
      },
      "source": [
        "del  train['Producer_rating']"
      ],
      "execution_count": null,
      "outputs": []
    },
    {
      "cell_type": "code",
      "metadata": {
        "id": "RGYY57epTHEg",
        "outputId": "5aa8e68c-956c-4afc-a83b-e0accfa315f4",
        "colab": {
          "base_uri": "https://localhost:8080/",
          "height": 302
        }
      },
      "source": [
        "train.describe()"
      ],
      "execution_count": null,
      "outputs": [
        {
          "output_type": "execute_result",
          "data": {
            "text/html": [
              "<div>\n",
              "<style scoped>\n",
              "    .dataframe tbody tr th:only-of-type {\n",
              "        vertical-align: middle;\n",
              "    }\n",
              "\n",
              "    .dataframe tbody tr th {\n",
              "        vertical-align: top;\n",
              "    }\n",
              "\n",
              "    .dataframe thead th {\n",
              "        text-align: right;\n",
              "    }\n",
              "</style>\n",
              "<table border=\"1\" class=\"dataframe\">\n",
              "  <thead>\n",
              "    <tr style=\"text-align: right;\">\n",
              "      <th></th>\n",
              "      <th>Collection</th>\n",
              "      <th>Marketin_expense</th>\n",
              "      <th>Production_expense</th>\n",
              "      <th>Multiplex_coverage</th>\n",
              "      <th>Budget</th>\n",
              "      <th>Movie_length</th>\n",
              "      <th>Critic_rating</th>\n",
              "      <th>Trailer_views</th>\n",
              "      <th>Time_taken</th>\n",
              "      <th>Twitter_hastags</th>\n",
              "      <th>Avg_age_actors</th>\n",
              "      <th>Num_multiplex</th>\n",
              "      <th>avg_rating</th>\n",
              "    </tr>\n",
              "  </thead>\n",
              "  <tbody>\n",
              "    <tr>\n",
              "      <th>count</th>\n",
              "      <td>400.000000</td>\n",
              "      <td>400.000000</td>\n",
              "      <td>400.000000</td>\n",
              "      <td>400.000000</td>\n",
              "      <td>400.000000</td>\n",
              "      <td>400.000000</td>\n",
              "      <td>400.000000</td>\n",
              "      <td>400.000000</td>\n",
              "      <td>400.000000</td>\n",
              "      <td>400.000000</td>\n",
              "      <td>400.000000</td>\n",
              "      <td>400.000000</td>\n",
              "      <td>400.000000</td>\n",
              "    </tr>\n",
              "    <tr>\n",
              "      <th>mean</th>\n",
              "      <td>48646.500000</td>\n",
              "      <td>55.017180</td>\n",
              "      <td>73.832700</td>\n",
              "      <td>0.469881</td>\n",
              "      <td>35197.771537</td>\n",
              "      <td>137.581750</td>\n",
              "      <td>7.894100</td>\n",
              "      <td>463223.567500</td>\n",
              "      <td>157.790000</td>\n",
              "      <td>255.337840</td>\n",
              "      <td>38.715000</td>\n",
              "      <td>523.650000</td>\n",
              "      <td>7.900088</td>\n",
              "    </tr>\n",
              "    <tr>\n",
              "      <th>std</th>\n",
              "      <td>18308.499136</td>\n",
              "      <td>119.755634</td>\n",
              "      <td>13.023426</td>\n",
              "      <td>0.113920</td>\n",
              "      <td>4075.766926</td>\n",
              "      <td>28.990673</td>\n",
              "      <td>0.672413</td>\n",
              "      <td>65225.567649</td>\n",
              "      <td>31.403877</td>\n",
              "      <td>47.492326</td>\n",
              "      <td>12.651043</td>\n",
              "      <td>103.661283</td>\n",
              "      <td>1.088704</td>\n",
              "    </tr>\n",
              "    <tr>\n",
              "      <th>min</th>\n",
              "      <td>10000.000000</td>\n",
              "      <td>20.126400</td>\n",
              "      <td>55.920000</td>\n",
              "      <td>0.129000</td>\n",
              "      <td>19781.355000</td>\n",
              "      <td>76.400000</td>\n",
              "      <td>6.600000</td>\n",
              "      <td>215432.000000</td>\n",
              "      <td>0.000000</td>\n",
              "      <td>201.632000</td>\n",
              "      <td>3.000000</td>\n",
              "      <td>333.000000</td>\n",
              "      <td>3.936250</td>\n",
              "    </tr>\n",
              "    <tr>\n",
              "      <th>25%</th>\n",
              "      <td>37800.000000</td>\n",
              "      <td>21.321950</td>\n",
              "      <td>63.250000</td>\n",
              "      <td>0.419000</td>\n",
              "      <td>32721.727500</td>\n",
              "      <td>111.175000</td>\n",
              "      <td>7.320000</td>\n",
              "      <td>436793.500000</td>\n",
              "      <td>133.550000</td>\n",
              "      <td>223.804000</td>\n",
              "      <td>26.000000</td>\n",
              "      <td>451.000000</td>\n",
              "      <td>7.170000</td>\n",
              "    </tr>\n",
              "    <tr>\n",
              "      <th>50%</th>\n",
              "      <td>45000.000000</td>\n",
              "      <td>23.214700</td>\n",
              "      <td>69.030000</td>\n",
              "      <td>0.494500</td>\n",
              "      <td>34593.762500</td>\n",
              "      <td>142.250000</td>\n",
              "      <td>7.960000</td>\n",
              "      <td>474930.000000</td>\n",
              "      <td>158.760000</td>\n",
              "      <td>246.680000</td>\n",
              "      <td>39.000000</td>\n",
              "      <td>510.000000</td>\n",
              "      <td>8.062500</td>\n",
              "    </tr>\n",
              "    <tr>\n",
              "      <th>75%</th>\n",
              "      <td>56500.000000</td>\n",
              "      <td>34.638300</td>\n",
              "      <td>82.840000</td>\n",
              "      <td>0.558000</td>\n",
              "      <td>37142.118750</td>\n",
              "      <td>165.400000</td>\n",
              "      <td>8.400000</td>\n",
              "      <td>507690.500000</td>\n",
              "      <td>182.890000</td>\n",
              "      <td>283.444000</td>\n",
              "      <td>50.000000</td>\n",
              "      <td>571.000000</td>\n",
              "      <td>8.828750</td>\n",
              "    </tr>\n",
              "    <tr>\n",
              "      <th>max</th>\n",
              "      <td>100000.000000</td>\n",
              "      <td>1799.524000</td>\n",
              "      <td>106.300000</td>\n",
              "      <td>0.615000</td>\n",
              "      <td>48772.900000</td>\n",
              "      <td>173.500000</td>\n",
              "      <td>9.400000</td>\n",
              "      <td>567784.000000</td>\n",
              "      <td>217.520000</td>\n",
              "      <td>924.000000</td>\n",
              "      <td>60.000000</td>\n",
              "      <td>868.000000</td>\n",
              "      <td>9.436250</td>\n",
              "    </tr>\n",
              "  </tbody>\n",
              "</table>\n",
              "</div>"
            ],
            "text/plain": [
              "          Collection  Marketin_expense  ...  Num_multiplex  avg_rating\n",
              "count     400.000000        400.000000  ...     400.000000  400.000000\n",
              "mean    48646.500000         55.017180  ...     523.650000    7.900088\n",
              "std     18308.499136        119.755634  ...     103.661283    1.088704\n",
              "min     10000.000000         20.126400  ...     333.000000    3.936250\n",
              "25%     37800.000000         21.321950  ...     451.000000    7.170000\n",
              "50%     45000.000000         23.214700  ...     510.000000    8.062500\n",
              "75%     56500.000000         34.638300  ...     571.000000    8.828750\n",
              "max    100000.000000       1799.524000  ...     868.000000    9.436250\n",
              "\n",
              "[8 rows x 13 columns]"
            ]
          },
          "metadata": {
            "tags": []
          },
          "execution_count": 44
        }
      ]
    },
    {
      "cell_type": "code",
      "metadata": {
        "id": "VklEruhmTNbE",
        "outputId": "8f421bf5-c9e8-48e0-ba2d-6760f945fb76",
        "colab": {
          "base_uri": "https://localhost:8080/",
          "height": 459
        }
      },
      "source": [
        "sns.jointplot(x='Marketin_expense',y='Collection',data=train)"
      ],
      "execution_count": null,
      "outputs": [
        {
          "output_type": "execute_result",
          "data": {
            "text/plain": [
              "<seaborn.axisgrid.JointGrid at 0x7fa871922dd8>"
            ]
          },
          "metadata": {
            "tags": []
          },
          "execution_count": 45
        },
        {
          "output_type": "display_data",
          "data": {
            "image/png": "[encoded data removed]",
            "text/plain": [
              "<Figure size 432x432 with 3 Axes>"
            ]
          },
          "metadata": {
            "tags": [],
            "needs_background": "light"
          }
        }
      ]
    },
    {
      "cell_type": "code",
      "metadata": {
        "id": "TBPEHqDwTucG"
      },
      "source": [
        "train.Marketin_expense = np.log(1+train.Marketin_expense)"
      ],
      "execution_count": null,
      "outputs": []
    },
    {
      "cell_type": "code",
      "metadata": {
        "id": "j4hvONedUKUE",
        "outputId": "c2e71a01-5bdb-40ad-e2f3-31e7e5687321",
        "colab": {
          "base_uri": "https://localhost:8080/",
          "height": 459
        }
      },
      "source": [
        "sns.jointplot(x='Marketin_expense',y='Collection',data=train)"
      ],
      "execution_count": null,
      "outputs": [
        {
          "output_type": "execute_result",
          "data": {
            "text/plain": [
              "<seaborn.axisgrid.JointGrid at 0x7fa8705c8898>"
            ]
          },
          "metadata": {
            "tags": []
          },
          "execution_count": 47
        },
        {
          "output_type": "display_data",
          "data": {
            "image/png": "[encoded data removed]",
            "text/plain": [
              "<Figure size 432x432 with 3 Axes>"
            ]
          },
          "metadata": {
            "tags": [],
            "needs_background": "light"
          }
        }
      ]
    },
    {
      "cell_type": "code",
      "metadata": {
        "id": "VNVeZr2VURBZ",
        "outputId": "0d684b8e-3032-444e-d2a2-d98740fae7be",
        "colab": {
          "base_uri": "https://localhost:8080/",
          "height": 214
        }
      },
      "source": [
        "train.head()"
      ],
      "execution_count": null,
      "outputs": [
        {
          "output_type": "execute_result",
          "data": {
            "text/html": [
              "<div>\n",
              "<style scoped>\n",
              "    .dataframe tbody tr th:only-of-type {\n",
              "        vertical-align: middle;\n",
              "    }\n",
              "\n",
              "    .dataframe tbody tr th {\n",
              "        vertical-align: top;\n",
              "    }\n",
              "\n",
              "    .dataframe thead th {\n",
              "        text-align: right;\n",
              "    }\n",
              "</style>\n",
              "<table border=\"1\" class=\"dataframe\">\n",
              "  <thead>\n",
              "    <tr style=\"text-align: right;\">\n",
              "      <th></th>\n",
              "      <th>Collection</th>\n",
              "      <th>Marketin_expense</th>\n",
              "      <th>Production_expense</th>\n",
              "      <th>Multiplex_coverage</th>\n",
              "      <th>Budget</th>\n",
              "      <th>Movie_length</th>\n",
              "      <th>Critic_rating</th>\n",
              "      <th>Trailer_views</th>\n",
              "      <th>Time_taken</th>\n",
              "      <th>Twitter_hastags</th>\n",
              "      <th>Genre</th>\n",
              "      <th>Avg_age_actors</th>\n",
              "      <th>MPAA_film_rating</th>\n",
              "      <th>Num_multiplex</th>\n",
              "      <th>3D_available</th>\n",
              "      <th>avg_rating</th>\n",
              "    </tr>\n",
              "  </thead>\n",
              "  <tbody>\n",
              "    <tr>\n",
              "      <th>0</th>\n",
              "      <td>48000</td>\n",
              "      <td>3.050523</td>\n",
              "      <td>59.62</td>\n",
              "      <td>0.462</td>\n",
              "      <td>36524.125</td>\n",
              "      <td>138.7</td>\n",
              "      <td>7.94</td>\n",
              "      <td>527367</td>\n",
              "      <td>109.60</td>\n",
              "      <td>223.840</td>\n",
              "      <td>Thriller</td>\n",
              "      <td>23</td>\n",
              "      <td>PG</td>\n",
              "      <td>494</td>\n",
              "      <td>YES</td>\n",
              "      <td>7.95625</td>\n",
              "    </tr>\n",
              "    <tr>\n",
              "      <th>1</th>\n",
              "      <td>43200</td>\n",
              "      <td>3.070199</td>\n",
              "      <td>69.14</td>\n",
              "      <td>0.531</td>\n",
              "      <td>35668.655</td>\n",
              "      <td>152.4</td>\n",
              "      <td>7.44</td>\n",
              "      <td>494055</td>\n",
              "      <td>146.64</td>\n",
              "      <td>243.456</td>\n",
              "      <td>Drama</td>\n",
              "      <td>42</td>\n",
              "      <td>PG</td>\n",
              "      <td>462</td>\n",
              "      <td>NO</td>\n",
              "      <td>7.51625</td>\n",
              "    </tr>\n",
              "    <tr>\n",
              "      <th>2</th>\n",
              "      <td>69400</td>\n",
              "      <td>3.070181</td>\n",
              "      <td>69.14</td>\n",
              "      <td>0.531</td>\n",
              "      <td>39912.675</td>\n",
              "      <td>134.6</td>\n",
              "      <td>7.44</td>\n",
              "      <td>547051</td>\n",
              "      <td>147.88</td>\n",
              "      <td>924.000</td>\n",
              "      <td>Comedy</td>\n",
              "      <td>38</td>\n",
              "      <td>PG</td>\n",
              "      <td>458</td>\n",
              "      <td>NO</td>\n",
              "      <td>7.51625</td>\n",
              "    </tr>\n",
              "    <tr>\n",
              "      <th>3</th>\n",
              "      <td>66800</td>\n",
              "      <td>3.074885</td>\n",
              "      <td>59.36</td>\n",
              "      <td>0.542</td>\n",
              "      <td>38873.890</td>\n",
              "      <td>119.3</td>\n",
              "      <td>8.26</td>\n",
              "      <td>516279</td>\n",
              "      <td>185.36</td>\n",
              "      <td>225.344</td>\n",
              "      <td>Drama</td>\n",
              "      <td>45</td>\n",
              "      <td>PG</td>\n",
              "      <td>472</td>\n",
              "      <td>YES</td>\n",
              "      <td>6.96750</td>\n",
              "    </tr>\n",
              "    <tr>\n",
              "      <th>4</th>\n",
              "      <td>72400</td>\n",
              "      <td>3.108212</td>\n",
              "      <td>59.36</td>\n",
              "      <td>0.542</td>\n",
              "      <td>39701.585</td>\n",
              "      <td>127.7</td>\n",
              "      <td>8.26</td>\n",
              "      <td>531448</td>\n",
              "      <td>176.48</td>\n",
              "      <td>225.792</td>\n",
              "      <td>Drama</td>\n",
              "      <td>55</td>\n",
              "      <td>PG</td>\n",
              "      <td>395</td>\n",
              "      <td>NO</td>\n",
              "      <td>6.96875</td>\n",
              "    </tr>\n",
              "  </tbody>\n",
              "</table>\n",
              "</div>"
            ],
            "text/plain": [
              "   Collection  Marketin_expense  ...  3D_available  avg_rating\n",
              "0       48000          3.050523  ...           YES     7.95625\n",
              "1       43200          3.070199  ...            NO     7.51625\n",
              "2       69400          3.070181  ...            NO     7.51625\n",
              "3       66800          3.074885  ...           YES     6.96750\n",
              "4       72400          3.108212  ...            NO     6.96875\n",
              "\n",
              "[5 rows x 16 columns]"
            ]
          },
          "metadata": {
            "tags": []
          },
          "execution_count": 48
        }
      ]
    },
    {
      "cell_type": "code",
      "metadata": {
        "id": "Ji943_3DUw6r"
      },
      "source": [
        "del train['MPAA_film_rating']"
      ],
      "execution_count": null,
      "outputs": []
    },
    {
      "cell_type": "code",
      "metadata": {
        "id": "wj7H0nXgU5Zv",
        "outputId": "4cf019e0-942a-4b59-a3f6-7c6cfbd9730a",
        "colab": {
          "base_uri": "https://localhost:8080/",
          "height": 302
        }
      },
      "source": [
        "train.describe()"
      ],
      "execution_count": null,
      "outputs": [
        {
          "output_type": "execute_result",
          "data": {
            "text/html": [
              "<div>\n",
              "<style scoped>\n",
              "    .dataframe tbody tr th:only-of-type {\n",
              "        vertical-align: middle;\n",
              "    }\n",
              "\n",
              "    .dataframe tbody tr th {\n",
              "        vertical-align: top;\n",
              "    }\n",
              "\n",
              "    .dataframe thead th {\n",
              "        text-align: right;\n",
              "    }\n",
              "</style>\n",
              "<table border=\"1\" class=\"dataframe\">\n",
              "  <thead>\n",
              "    <tr style=\"text-align: right;\">\n",
              "      <th></th>\n",
              "      <th>Collection</th>\n",
              "      <th>Marketin_expense</th>\n",
              "      <th>Production_expense</th>\n",
              "      <th>Multiplex_coverage</th>\n",
              "      <th>Budget</th>\n",
              "      <th>Movie_length</th>\n",
              "      <th>Critic_rating</th>\n",
              "      <th>Trailer_views</th>\n",
              "      <th>Time_taken</th>\n",
              "      <th>Twitter_hastags</th>\n",
              "      <th>Avg_age_actors</th>\n",
              "      <th>Num_multiplex</th>\n",
              "      <th>avg_rating</th>\n",
              "    </tr>\n",
              "  </thead>\n",
              "  <tbody>\n",
              "    <tr>\n",
              "      <th>count</th>\n",
              "      <td>400.000000</td>\n",
              "      <td>400.000000</td>\n",
              "      <td>400.000000</td>\n",
              "      <td>400.000000</td>\n",
              "      <td>400.000000</td>\n",
              "      <td>400.000000</td>\n",
              "      <td>400.000000</td>\n",
              "      <td>400.000000</td>\n",
              "      <td>400.000000</td>\n",
              "      <td>400.000000</td>\n",
              "      <td>400.000000</td>\n",
              "      <td>400.000000</td>\n",
              "      <td>400.000000</td>\n",
              "    </tr>\n",
              "    <tr>\n",
              "      <th>mean</th>\n",
              "      <td>48646.500000</td>\n",
              "      <td>3.530168</td>\n",
              "      <td>73.832700</td>\n",
              "      <td>0.469881</td>\n",
              "      <td>35197.771537</td>\n",
              "      <td>137.581750</td>\n",
              "      <td>7.894100</td>\n",
              "      <td>463223.567500</td>\n",
              "      <td>157.790000</td>\n",
              "      <td>255.337840</td>\n",
              "      <td>38.715000</td>\n",
              "      <td>523.650000</td>\n",
              "      <td>7.900088</td>\n",
              "    </tr>\n",
              "    <tr>\n",
              "      <th>std</th>\n",
              "      <td>18308.499136</td>\n",
              "      <td>0.744796</td>\n",
              "      <td>13.023426</td>\n",
              "      <td>0.113920</td>\n",
              "      <td>4075.766926</td>\n",
              "      <td>28.990673</td>\n",
              "      <td>0.672413</td>\n",
              "      <td>65225.567649</td>\n",
              "      <td>31.403877</td>\n",
              "      <td>47.492326</td>\n",
              "      <td>12.651043</td>\n",
              "      <td>103.661283</td>\n",
              "      <td>1.088704</td>\n",
              "    </tr>\n",
              "    <tr>\n",
              "      <th>min</th>\n",
              "      <td>10000.000000</td>\n",
              "      <td>3.050523</td>\n",
              "      <td>55.920000</td>\n",
              "      <td>0.129000</td>\n",
              "      <td>19781.355000</td>\n",
              "      <td>76.400000</td>\n",
              "      <td>6.600000</td>\n",
              "      <td>215432.000000</td>\n",
              "      <td>0.000000</td>\n",
              "      <td>201.632000</td>\n",
              "      <td>3.000000</td>\n",
              "      <td>333.000000</td>\n",
              "      <td>3.936250</td>\n",
              "    </tr>\n",
              "    <tr>\n",
              "      <th>25%</th>\n",
              "      <td>37800.000000</td>\n",
              "      <td>3.105570</td>\n",
              "      <td>63.250000</td>\n",
              "      <td>0.419000</td>\n",
              "      <td>32721.727500</td>\n",
              "      <td>111.175000</td>\n",
              "      <td>7.320000</td>\n",
              "      <td>436793.500000</td>\n",
              "      <td>133.550000</td>\n",
              "      <td>223.804000</td>\n",
              "      <td>26.000000</td>\n",
              "      <td>451.000000</td>\n",
              "      <td>7.170000</td>\n",
              "    </tr>\n",
              "    <tr>\n",
              "      <th>50%</th>\n",
              "      <td>45000.000000</td>\n",
              "      <td>3.186959</td>\n",
              "      <td>69.030000</td>\n",
              "      <td>0.494500</td>\n",
              "      <td>34593.762500</td>\n",
              "      <td>142.250000</td>\n",
              "      <td>7.960000</td>\n",
              "      <td>474930.000000</td>\n",
              "      <td>158.760000</td>\n",
              "      <td>246.680000</td>\n",
              "      <td>39.000000</td>\n",
              "      <td>510.000000</td>\n",
              "      <td>8.062500</td>\n",
              "    </tr>\n",
              "    <tr>\n",
              "      <th>75%</th>\n",
              "      <td>56500.000000</td>\n",
              "      <td>3.573403</td>\n",
              "      <td>82.840000</td>\n",
              "      <td>0.558000</td>\n",
              "      <td>37142.118750</td>\n",
              "      <td>165.400000</td>\n",
              "      <td>8.400000</td>\n",
              "      <td>507690.500000</td>\n",
              "      <td>182.890000</td>\n",
              "      <td>283.444000</td>\n",
              "      <td>50.000000</td>\n",
              "      <td>571.000000</td>\n",
              "      <td>8.828750</td>\n",
              "    </tr>\n",
              "    <tr>\n",
              "      <th>max</th>\n",
              "      <td>100000.000000</td>\n",
              "      <td>7.495833</td>\n",
              "      <td>106.300000</td>\n",
              "      <td>0.615000</td>\n",
              "      <td>48772.900000</td>\n",
              "      <td>173.500000</td>\n",
              "      <td>9.400000</td>\n",
              "      <td>567784.000000</td>\n",
              "      <td>217.520000</td>\n",
              "      <td>924.000000</td>\n",
              "      <td>60.000000</td>\n",
              "      <td>868.000000</td>\n",
              "      <td>9.436250</td>\n",
              "    </tr>\n",
              "  </tbody>\n",
              "</table>\n",
              "</div>"
            ],
            "text/plain": [
              "          Collection  Marketin_expense  ...  Num_multiplex  avg_rating\n",
              "count     400.000000        400.000000  ...     400.000000  400.000000\n",
              "mean    48646.500000          3.530168  ...     523.650000    7.900088\n",
              "std     18308.499136          0.744796  ...     103.661283    1.088704\n",
              "min     10000.000000          3.050523  ...     333.000000    3.936250\n",
              "25%     37800.000000          3.105570  ...     451.000000    7.170000\n",
              "50%     45000.000000          3.186959  ...     510.000000    8.062500\n",
              "75%     56500.000000          3.573403  ...     571.000000    8.828750\n",
              "max    100000.000000          7.495833  ...     868.000000    9.436250\n",
              "\n",
              "[8 rows x 13 columns]"
            ]
          },
          "metadata": {
            "tags": []
          },
          "execution_count": 50
        }
      ]
    },
    {
      "cell_type": "code",
      "metadata": {
        "id": "ZMcx09r3MrUk"
      },
      "source": [
        "df = pd.get_dummies(train)"
      ],
      "execution_count": null,
      "outputs": []
    },
    {
      "cell_type": "code",
      "metadata": {
        "id": "9O1AHXjXQ4rm",
        "outputId": "12301fb1-5347-4494-a9cd-1f36ae5853c3",
        "colab": {
          "base_uri": "https://localhost:8080/",
          "height": 214
        }
      },
      "source": [
        "df.head()"
      ],
      "execution_count": null,
      "outputs": [
        {
          "output_type": "execute_result",
          "data": {
            "text/html": [
              "<div>\n",
              "<style scoped>\n",
              "    .dataframe tbody tr th:only-of-type {\n",
              "        vertical-align: middle;\n",
              "    }\n",
              "\n",
              "    .dataframe tbody tr th {\n",
              "        vertical-align: top;\n",
              "    }\n",
              "\n",
              "    .dataframe thead th {\n",
              "        text-align: right;\n",
              "    }\n",
              "</style>\n",
              "<table border=\"1\" class=\"dataframe\">\n",
              "  <thead>\n",
              "    <tr style=\"text-align: right;\">\n",
              "      <th></th>\n",
              "      <th>Collection</th>\n",
              "      <th>Marketin_expense</th>\n",
              "      <th>Production_expense</th>\n",
              "      <th>Multiplex_coverage</th>\n",
              "      <th>Budget</th>\n",
              "      <th>Movie_length</th>\n",
              "      <th>Critic_rating</th>\n",
              "      <th>Trailer_views</th>\n",
              "      <th>Time_taken</th>\n",
              "      <th>Twitter_hastags</th>\n",
              "      <th>Avg_age_actors</th>\n",
              "      <th>Num_multiplex</th>\n",
              "      <th>avg_rating</th>\n",
              "      <th>Genre_Action</th>\n",
              "      <th>Genre_Comedy</th>\n",
              "      <th>Genre_Drama</th>\n",
              "      <th>Genre_Thriller</th>\n",
              "      <th>3D_available_NO</th>\n",
              "      <th>3D_available_YES</th>\n",
              "    </tr>\n",
              "  </thead>\n",
              "  <tbody>\n",
              "    <tr>\n",
              "      <th>0</th>\n",
              "      <td>48000</td>\n",
              "      <td>3.050523</td>\n",
              "      <td>59.62</td>\n",
              "      <td>0.462</td>\n",
              "      <td>36524.125</td>\n",
              "      <td>138.7</td>\n",
              "      <td>7.94</td>\n",
              "      <td>527367</td>\n",
              "      <td>109.60</td>\n",
              "      <td>223.840</td>\n",
              "      <td>23</td>\n",
              "      <td>494</td>\n",
              "      <td>7.95625</td>\n",
              "      <td>0</td>\n",
              "      <td>0</td>\n",
              "      <td>0</td>\n",
              "      <td>1</td>\n",
              "      <td>0</td>\n",
              "      <td>1</td>\n",
              "    </tr>\n",
              "    <tr>\n",
              "      <th>1</th>\n",
              "      <td>43200</td>\n",
              "      <td>3.070199</td>\n",
              "      <td>69.14</td>\n",
              "      <td>0.531</td>\n",
              "      <td>35668.655</td>\n",
              "      <td>152.4</td>\n",
              "      <td>7.44</td>\n",
              "      <td>494055</td>\n",
              "      <td>146.64</td>\n",
              "      <td>243.456</td>\n",
              "      <td>42</td>\n",
              "      <td>462</td>\n",
              "      <td>7.51625</td>\n",
              "      <td>0</td>\n",
              "      <td>0</td>\n",
              "      <td>1</td>\n",
              "      <td>0</td>\n",
              "      <td>1</td>\n",
              "      <td>0</td>\n",
              "    </tr>\n",
              "    <tr>\n",
              "      <th>2</th>\n",
              "      <td>69400</td>\n",
              "      <td>3.070181</td>\n",
              "      <td>69.14</td>\n",
              "      <td>0.531</td>\n",
              "      <td>39912.675</td>\n",
              "      <td>134.6</td>\n",
              "      <td>7.44</td>\n",
              "      <td>547051</td>\n",
              "      <td>147.88</td>\n",
              "      <td>924.000</td>\n",
              "      <td>38</td>\n",
              "      <td>458</td>\n",
              "      <td>7.51625</td>\n",
              "      <td>0</td>\n",
              "      <td>1</td>\n",
              "      <td>0</td>\n",
              "      <td>0</td>\n",
              "      <td>1</td>\n",
              "      <td>0</td>\n",
              "    </tr>\n",
              "    <tr>\n",
              "      <th>3</th>\n",
              "      <td>66800</td>\n",
              "      <td>3.074885</td>\n",
              "      <td>59.36</td>\n",
              "      <td>0.542</td>\n",
              "      <td>38873.890</td>\n",
              "      <td>119.3</td>\n",
              "      <td>8.26</td>\n",
              "      <td>516279</td>\n",
              "      <td>185.36</td>\n",
              "      <td>225.344</td>\n",
              "      <td>45</td>\n",
              "      <td>472</td>\n",
              "      <td>6.96750</td>\n",
              "      <td>0</td>\n",
              "      <td>0</td>\n",
              "      <td>1</td>\n",
              "      <td>0</td>\n",
              "      <td>0</td>\n",
              "      <td>1</td>\n",
              "    </tr>\n",
              "    <tr>\n",
              "      <th>4</th>\n",
              "      <td>72400</td>\n",
              "      <td>3.108212</td>\n",
              "      <td>59.36</td>\n",
              "      <td>0.542</td>\n",
              "      <td>39701.585</td>\n",
              "      <td>127.7</td>\n",
              "      <td>8.26</td>\n",
              "      <td>531448</td>\n",
              "      <td>176.48</td>\n",
              "      <td>225.792</td>\n",
              "      <td>55</td>\n",
              "      <td>395</td>\n",
              "      <td>6.96875</td>\n",
              "      <td>0</td>\n",
              "      <td>0</td>\n",
              "      <td>1</td>\n",
              "      <td>0</td>\n",
              "      <td>1</td>\n",
              "      <td>0</td>\n",
              "    </tr>\n",
              "  </tbody>\n",
              "</table>\n",
              "</div>"
            ],
            "text/plain": [
              "   Collection  Marketin_expense  ...  3D_available_NO  3D_available_YES\n",
              "0       48000          3.050523  ...                0                 1\n",
              "1       43200          3.070199  ...                1                 0\n",
              "2       69400          3.070181  ...                1                 0\n",
              "3       66800          3.074885  ...                0                 1\n",
              "4       72400          3.108212  ...                1                 0\n",
              "\n",
              "[5 rows x 19 columns]"
            ]
          },
          "metadata": {
            "tags": []
          },
          "execution_count": 52
        }
      ]
    },
    {
      "cell_type": "code",
      "metadata": {
        "id": "-RWQwBpBQ8R_",
        "outputId": "273c19c2-836c-4374-f3fa-5709789754c4",
        "colab": {
          "base_uri": "https://localhost:8080/",
          "height": 624
        }
      },
      "source": [
        "df.corr()"
      ],
      "execution_count": null,
      "outputs": [
        {
          "output_type": "execute_result",
          "data": {
            "text/html": [
              "<div>\n",
              "<style scoped>\n",
              "    .dataframe tbody tr th:only-of-type {\n",
              "        vertical-align: middle;\n",
              "    }\n",
              "\n",
              "    .dataframe tbody tr th {\n",
              "        vertical-align: top;\n",
              "    }\n",
              "\n",
              "    .dataframe thead th {\n",
              "        text-align: right;\n",
              "    }\n",
              "</style>\n",
              "<table border=\"1\" class=\"dataframe\">\n",
              "  <thead>\n",
              "    <tr style=\"text-align: right;\">\n",
              "      <th></th>\n",
              "      <th>Collection</th>\n",
              "      <th>Marketin_expense</th>\n",
              "      <th>Production_expense</th>\n",
              "      <th>Multiplex_coverage</th>\n",
              "      <th>Budget</th>\n",
              "      <th>Movie_length</th>\n",
              "      <th>Critic_rating</th>\n",
              "      <th>Trailer_views</th>\n",
              "      <th>Time_taken</th>\n",
              "      <th>Twitter_hastags</th>\n",
              "      <th>Avg_age_actors</th>\n",
              "      <th>Num_multiplex</th>\n",
              "      <th>avg_rating</th>\n",
              "      <th>Genre_Action</th>\n",
              "      <th>Genre_Comedy</th>\n",
              "      <th>Genre_Drama</th>\n",
              "      <th>Genre_Thriller</th>\n",
              "      <th>3D_available_NO</th>\n",
              "      <th>3D_available_YES</th>\n",
              "    </tr>\n",
              "  </thead>\n",
              "  <tbody>\n",
              "    <tr>\n",
              "      <th>Collection</th>\n",
              "      <td>1.000000</td>\n",
              "      <td>-0.309711</td>\n",
              "      <td>-0.373947</td>\n",
              "      <td>0.303971</td>\n",
              "      <td>0.754353</td>\n",
              "      <td>-0.278718</td>\n",
              "      <td>0.317850</td>\n",
              "      <td>0.678691</td>\n",
              "      <td>0.140573</td>\n",
              "      <td>0.052651</td>\n",
              "      <td>-0.005188</td>\n",
              "      <td>-0.272365</td>\n",
              "      <td>-0.109429</td>\n",
              "      <td>-0.061967</td>\n",
              "      <td>-0.036113</td>\n",
              "      <td>0.020424</td>\n",
              "      <td>0.060124</td>\n",
              "      <td>-0.192355</td>\n",
              "      <td>0.192355</td>\n",
              "    </tr>\n",
              "    <tr>\n",
              "      <th>Marketin_expense</th>\n",
              "      <td>-0.309711</td>\n",
              "      <td>1.000000</td>\n",
              "      <td>0.615376</td>\n",
              "      <td>-0.707648</td>\n",
              "      <td>-0.306339</td>\n",
              "      <td>0.533402</td>\n",
              "      <td>-0.177594</td>\n",
              "      <td>-0.526549</td>\n",
              "      <td>0.048600</td>\n",
              "      <td>0.049715</td>\n",
              "      <td>0.024027</td>\n",
              "      <td>0.636746</td>\n",
              "      <td>0.557964</td>\n",
              "      <td>0.034316</td>\n",
              "      <td>0.035203</td>\n",
              "      <td>0.011118</td>\n",
              "      <td>-0.066084</td>\n",
              "      <td>0.120489</td>\n",
              "      <td>-0.120489</td>\n",
              "    </tr>\n",
              "    <tr>\n",
              "      <th>Production_expense</th>\n",
              "      <td>-0.373947</td>\n",
              "      <td>0.615376</td>\n",
              "      <td>1.000000</td>\n",
              "      <td>-0.747325</td>\n",
              "      <td>-0.403334</td>\n",
              "      <td>0.609577</td>\n",
              "      <td>-0.177960</td>\n",
              "      <td>-0.537165</td>\n",
              "      <td>0.024382</td>\n",
              "      <td>-0.057913</td>\n",
              "      <td>0.028472</td>\n",
              "      <td>0.691225</td>\n",
              "      <td>0.670593</td>\n",
              "      <td>0.044404</td>\n",
              "      <td>0.040700</td>\n",
              "      <td>0.016143</td>\n",
              "      <td>-0.082437</td>\n",
              "      <td>0.086836</td>\n",
              "      <td>-0.086836</td>\n",
              "    </tr>\n",
              "    <tr>\n",
              "      <th>Multiplex_coverage</th>\n",
              "      <td>0.303971</td>\n",
              "      <td>-0.707648</td>\n",
              "      <td>-0.747325</td>\n",
              "      <td>1.000000</td>\n",
              "      <td>0.314842</td>\n",
              "      <td>-0.714380</td>\n",
              "      <td>0.066023</td>\n",
              "      <td>0.524445</td>\n",
              "      <td>0.027185</td>\n",
              "      <td>0.016897</td>\n",
              "      <td>-0.078364</td>\n",
              "      <td>-0.914065</td>\n",
              "      <td>-0.750545</td>\n",
              "      <td>-0.015216</td>\n",
              "      <td>-0.028551</td>\n",
              "      <td>0.008637</td>\n",
              "      <td>0.030138</td>\n",
              "      <td>-0.065540</td>\n",
              "      <td>0.065540</td>\n",
              "    </tr>\n",
              "    <tr>\n",
              "      <th>Budget</th>\n",
              "      <td>0.754353</td>\n",
              "      <td>-0.306339</td>\n",
              "      <td>-0.403334</td>\n",
              "      <td>0.314842</td>\n",
              "      <td>1.000000</td>\n",
              "      <td>-0.233983</td>\n",
              "      <td>0.237713</td>\n",
              "      <td>0.632985</td>\n",
              "      <td>0.069261</td>\n",
              "      <td>0.045096</td>\n",
              "      <td>-0.043350</td>\n",
              "      <td>-0.290950</td>\n",
              "      <td>-0.165459</td>\n",
              "      <td>0.018271</td>\n",
              "      <td>-0.051806</td>\n",
              "      <td>-0.024516</td>\n",
              "      <td>0.055914</td>\n",
              "      <td>-0.167132</td>\n",
              "      <td>0.167132</td>\n",
              "    </tr>\n",
              "    <tr>\n",
              "      <th>Movie_length</th>\n",
              "      <td>-0.278718</td>\n",
              "      <td>0.533402</td>\n",
              "      <td>0.609577</td>\n",
              "      <td>-0.714380</td>\n",
              "      <td>-0.233983</td>\n",
              "      <td>1.000000</td>\n",
              "      <td>-0.171255</td>\n",
              "      <td>-0.554295</td>\n",
              "      <td>-0.005934</td>\n",
              "      <td>-0.008140</td>\n",
              "      <td>0.065164</td>\n",
              "      <td>0.655003</td>\n",
              "      <td>0.725392</td>\n",
              "      <td>0.008192</td>\n",
              "      <td>0.075355</td>\n",
              "      <td>0.024897</td>\n",
              "      <td>-0.096724</td>\n",
              "      <td>-0.021640</td>\n",
              "      <td>0.021640</td>\n",
              "    </tr>\n",
              "    <tr>\n",
              "      <th>Critic_rating</th>\n",
              "      <td>0.317850</td>\n",
              "      <td>-0.177594</td>\n",
              "      <td>-0.177960</td>\n",
              "      <td>0.066023</td>\n",
              "      <td>0.237713</td>\n",
              "      <td>-0.171255</td>\n",
              "      <td>1.000000</td>\n",
              "      <td>0.200985</td>\n",
              "      <td>-0.011592</td>\n",
              "      <td>-0.027859</td>\n",
              "      <td>-0.010233</td>\n",
              "      <td>-0.047068</td>\n",
              "      <td>-0.091204</td>\n",
              "      <td>-0.002276</td>\n",
              "      <td>0.012654</td>\n",
              "      <td>0.034996</td>\n",
              "      <td>-0.039234</td>\n",
              "      <td>-0.035370</td>\n",
              "      <td>0.035370</td>\n",
              "    </tr>\n",
              "    <tr>\n",
              "      <th>Trailer_views</th>\n",
              "      <td>0.678691</td>\n",
              "      <td>-0.526549</td>\n",
              "      <td>-0.537165</td>\n",
              "      <td>0.524445</td>\n",
              "      <td>0.632985</td>\n",
              "      <td>-0.554295</td>\n",
              "      <td>0.200985</td>\n",
              "      <td>1.000000</td>\n",
              "      <td>0.104337</td>\n",
              "      <td>0.033717</td>\n",
              "      <td>-0.004870</td>\n",
              "      <td>-0.498964</td>\n",
              "      <td>-0.415119</td>\n",
              "      <td>-0.014643</td>\n",
              "      <td>-0.101046</td>\n",
              "      <td>-0.025268</td>\n",
              "      <td>0.125530</td>\n",
              "      <td>-0.091796</td>\n",
              "      <td>0.091796</td>\n",
              "    </tr>\n",
              "    <tr>\n",
              "      <th>Time_taken</th>\n",
              "      <td>0.140573</td>\n",
              "      <td>0.048600</td>\n",
              "      <td>0.024382</td>\n",
              "      <td>0.027185</td>\n",
              "      <td>0.069261</td>\n",
              "      <td>-0.005934</td>\n",
              "      <td>-0.011592</td>\n",
              "      <td>0.104337</td>\n",
              "      <td>1.000000</td>\n",
              "      <td>0.010841</td>\n",
              "      <td>0.035250</td>\n",
              "      <td>-0.056048</td>\n",
              "      <td>0.055037</td>\n",
              "      <td>0.041002</td>\n",
              "      <td>-0.054714</td>\n",
              "      <td>0.084872</td>\n",
              "      <td>-0.047950</td>\n",
              "      <td>0.035168</td>\n",
              "      <td>-0.035168</td>\n",
              "    </tr>\n",
              "    <tr>\n",
              "      <th>Twitter_hastags</th>\n",
              "      <td>0.052651</td>\n",
              "      <td>0.049715</td>\n",
              "      <td>-0.057913</td>\n",
              "      <td>0.016897</td>\n",
              "      <td>0.045096</td>\n",
              "      <td>-0.008140</td>\n",
              "      <td>-0.027859</td>\n",
              "      <td>0.033717</td>\n",
              "      <td>0.010841</td>\n",
              "      <td>1.000000</td>\n",
              "      <td>0.051341</td>\n",
              "      <td>-0.002665</td>\n",
              "      <td>-0.008643</td>\n",
              "      <td>0.031257</td>\n",
              "      <td>0.075995</td>\n",
              "      <td>-0.031783</td>\n",
              "      <td>-0.066465</td>\n",
              "      <td>0.035927</td>\n",
              "      <td>-0.035927</td>\n",
              "    </tr>\n",
              "    <tr>\n",
              "      <th>Avg_age_actors</th>\n",
              "      <td>-0.005188</td>\n",
              "      <td>0.024027</td>\n",
              "      <td>0.028472</td>\n",
              "      <td>-0.078364</td>\n",
              "      <td>-0.043350</td>\n",
              "      <td>0.065164</td>\n",
              "      <td>-0.010233</td>\n",
              "      <td>-0.004870</td>\n",
              "      <td>0.035250</td>\n",
              "      <td>0.051341</td>\n",
              "      <td>1.000000</td>\n",
              "      <td>0.059602</td>\n",
              "      <td>0.006919</td>\n",
              "      <td>0.087018</td>\n",
              "      <td>-0.042941</td>\n",
              "      <td>-0.020145</td>\n",
              "      <td>-0.004067</td>\n",
              "      <td>0.030999</td>\n",
              "      <td>-0.030999</td>\n",
              "    </tr>\n",
              "    <tr>\n",
              "      <th>Num_multiplex</th>\n",
              "      <td>-0.272365</td>\n",
              "      <td>0.636746</td>\n",
              "      <td>0.691225</td>\n",
              "      <td>-0.914065</td>\n",
              "      <td>-0.290950</td>\n",
              "      <td>0.655003</td>\n",
              "      <td>-0.047068</td>\n",
              "      <td>-0.498964</td>\n",
              "      <td>-0.056048</td>\n",
              "      <td>-0.002665</td>\n",
              "      <td>0.059602</td>\n",
              "      <td>1.000000</td>\n",
              "      <td>0.688054</td>\n",
              "      <td>0.035437</td>\n",
              "      <td>0.033252</td>\n",
              "      <td>-0.010194</td>\n",
              "      <td>-0.047379</td>\n",
              "      <td>0.049067</td>\n",
              "      <td>-0.049067</td>\n",
              "    </tr>\n",
              "    <tr>\n",
              "      <th>avg_rating</th>\n",
              "      <td>-0.109429</td>\n",
              "      <td>0.557964</td>\n",
              "      <td>0.670593</td>\n",
              "      <td>-0.750545</td>\n",
              "      <td>-0.165459</td>\n",
              "      <td>0.725392</td>\n",
              "      <td>-0.091204</td>\n",
              "      <td>-0.415119</td>\n",
              "      <td>0.055037</td>\n",
              "      <td>-0.008643</td>\n",
              "      <td>0.006919</td>\n",
              "      <td>0.688054</td>\n",
              "      <td>1.000000</td>\n",
              "      <td>0.023297</td>\n",
              "      <td>0.018148</td>\n",
              "      <td>-0.014830</td>\n",
              "      <td>-0.020943</td>\n",
              "      <td>-0.008761</td>\n",
              "      <td>0.008761</td>\n",
              "    </tr>\n",
              "    <tr>\n",
              "      <th>Genre_Action</th>\n",
              "      <td>-0.061967</td>\n",
              "      <td>0.034316</td>\n",
              "      <td>0.044404</td>\n",
              "      <td>-0.015216</td>\n",
              "      <td>0.018271</td>\n",
              "      <td>0.008192</td>\n",
              "      <td>-0.002276</td>\n",
              "      <td>-0.014643</td>\n",
              "      <td>0.041002</td>\n",
              "      <td>0.031257</td>\n",
              "      <td>0.087018</td>\n",
              "      <td>0.035437</td>\n",
              "      <td>0.023297</td>\n",
              "      <td>1.000000</td>\n",
              "      <td>-0.248256</td>\n",
              "      <td>-0.196934</td>\n",
              "      <td>-0.304342</td>\n",
              "      <td>0.081668</td>\n",
              "      <td>-0.081668</td>\n",
              "    </tr>\n",
              "    <tr>\n",
              "      <th>Genre_Comedy</th>\n",
              "      <td>-0.036113</td>\n",
              "      <td>0.035203</td>\n",
              "      <td>0.040700</td>\n",
              "      <td>-0.028551</td>\n",
              "      <td>-0.051806</td>\n",
              "      <td>0.075355</td>\n",
              "      <td>0.012654</td>\n",
              "      <td>-0.101046</td>\n",
              "      <td>-0.054714</td>\n",
              "      <td>0.075995</td>\n",
              "      <td>-0.042941</td>\n",
              "      <td>0.033252</td>\n",
              "      <td>0.018148</td>\n",
              "      <td>-0.248256</td>\n",
              "      <td>1.000000</td>\n",
              "      <td>-0.320091</td>\n",
              "      <td>-0.494670</td>\n",
              "      <td>-0.054472</td>\n",
              "      <td>0.054472</td>\n",
              "    </tr>\n",
              "    <tr>\n",
              "      <th>Genre_Drama</th>\n",
              "      <td>0.020424</td>\n",
              "      <td>0.011118</td>\n",
              "      <td>0.016143</td>\n",
              "      <td>0.008637</td>\n",
              "      <td>-0.024516</td>\n",
              "      <td>0.024897</td>\n",
              "      <td>0.034996</td>\n",
              "      <td>-0.025268</td>\n",
              "      <td>0.084872</td>\n",
              "      <td>-0.031783</td>\n",
              "      <td>-0.020145</td>\n",
              "      <td>-0.010194</td>\n",
              "      <td>-0.014830</td>\n",
              "      <td>-0.196934</td>\n",
              "      <td>-0.320091</td>\n",
              "      <td>1.000000</td>\n",
              "      <td>-0.392406</td>\n",
              "      <td>-0.005348</td>\n",
              "      <td>0.005348</td>\n",
              "    </tr>\n",
              "    <tr>\n",
              "      <th>Genre_Thriller</th>\n",
              "      <td>0.060124</td>\n",
              "      <td>-0.066084</td>\n",
              "      <td>-0.082437</td>\n",
              "      <td>0.030138</td>\n",
              "      <td>0.055914</td>\n",
              "      <td>-0.096724</td>\n",
              "      <td>-0.039234</td>\n",
              "      <td>0.125530</td>\n",
              "      <td>-0.047950</td>\n",
              "      <td>-0.066465</td>\n",
              "      <td>-0.004067</td>\n",
              "      <td>-0.047379</td>\n",
              "      <td>-0.020943</td>\n",
              "      <td>-0.304342</td>\n",
              "      <td>-0.494670</td>\n",
              "      <td>-0.392406</td>\n",
              "      <td>1.000000</td>\n",
              "      <td>-0.001826</td>\n",
              "      <td>0.001826</td>\n",
              "    </tr>\n",
              "    <tr>\n",
              "      <th>3D_available_NO</th>\n",
              "      <td>-0.192355</td>\n",
              "      <td>0.120489</td>\n",
              "      <td>0.086836</td>\n",
              "      <td>-0.065540</td>\n",
              "      <td>-0.167132</td>\n",
              "      <td>-0.021640</td>\n",
              "      <td>-0.035370</td>\n",
              "      <td>-0.091796</td>\n",
              "      <td>0.035168</td>\n",
              "      <td>0.035927</td>\n",
              "      <td>0.030999</td>\n",
              "      <td>0.049067</td>\n",
              "      <td>-0.008761</td>\n",
              "      <td>0.081668</td>\n",
              "      <td>-0.054472</td>\n",
              "      <td>-0.005348</td>\n",
              "      <td>-0.001826</td>\n",
              "      <td>1.000000</td>\n",
              "      <td>-1.000000</td>\n",
              "    </tr>\n",
              "    <tr>\n",
              "      <th>3D_available_YES</th>\n",
              "      <td>0.192355</td>\n",
              "      <td>-0.120489</td>\n",
              "      <td>-0.086836</td>\n",
              "      <td>0.065540</td>\n",
              "      <td>0.167132</td>\n",
              "      <td>0.021640</td>\n",
              "      <td>0.035370</td>\n",
              "      <td>0.091796</td>\n",
              "      <td>-0.035168</td>\n",
              "      <td>-0.035927</td>\n",
              "      <td>-0.030999</td>\n",
              "      <td>-0.049067</td>\n",
              "      <td>0.008761</td>\n",
              "      <td>-0.081668</td>\n",
              "      <td>0.054472</td>\n",
              "      <td>0.005348</td>\n",
              "      <td>0.001826</td>\n",
              "      <td>-1.000000</td>\n",
              "      <td>1.000000</td>\n",
              "    </tr>\n",
              "  </tbody>\n",
              "</table>\n",
              "</div>"
            ],
            "text/plain": [
              "                    Collection  ...  3D_available_YES\n",
              "Collection            1.000000  ...          0.192355\n",
              "Marketin_expense     -0.309711  ...         -0.120489\n",
              "Production_expense   -0.373947  ...         -0.086836\n",
              "Multiplex_coverage    0.303971  ...          0.065540\n",
              "Budget                0.754353  ...          0.167132\n",
              "Movie_length         -0.278718  ...          0.021640\n",
              "Critic_rating         0.317850  ...          0.035370\n",
              "Trailer_views         0.678691  ...          0.091796\n",
              "Time_taken            0.140573  ...         -0.035168\n",
              "Twitter_hastags       0.052651  ...         -0.035927\n",
              "Avg_age_actors       -0.005188  ...         -0.030999\n",
              "Num_multiplex        -0.272365  ...         -0.049067\n",
              "avg_rating           -0.109429  ...          0.008761\n",
              "Genre_Action         -0.061967  ...         -0.081668\n",
              "Genre_Comedy         -0.036113  ...          0.054472\n",
              "Genre_Drama           0.020424  ...          0.005348\n",
              "Genre_Thriller        0.060124  ...          0.001826\n",
              "3D_available_NO      -0.192355  ...         -1.000000\n",
              "3D_available_YES      0.192355  ...          1.000000\n",
              "\n",
              "[19 rows x 19 columns]"
            ]
          },
          "metadata": {
            "tags": []
          },
          "execution_count": 53
        }
      ]
    },
    {
      "cell_type": "code",
      "metadata": {
        "id": "HPd8LFVDbUXP",
        "outputId": "0c9030e7-7215-4caa-ed3b-0d7201be2bb1",
        "colab": {
          "base_uri": "https://localhost:8080/",
          "height": 72
        }
      },
      "source": [
        "import statsmodels.api as sn"
      ],
      "execution_count": null,
      "outputs": [
        {
          "output_type": "stream",
          "text": [
            "/usr/local/lib/python3.6/dist-packages/statsmodels/tools/_testing.py:19: FutureWarning: pandas.util.testing is deprecated. Use the functions in the public API at pandas.testing instead.\n",
            "  import pandas.util.testing as tm\n"
          ],
          "name": "stderr"
        }
      ]
    },
    {
      "cell_type": "code",
      "metadata": {
        "id": "tnNZ7rAUiwd-"
      },
      "source": [
        "X= sn.add_constant(df['Budget'])"
      ],
      "execution_count": null,
      "outputs": []
    },
    {
      "cell_type": "code",
      "metadata": {
        "id": "GI7soN2ujJjF"
      },
      "source": [
        "lm= sn.OLS(df['Collection'],X).fit()"
      ],
      "execution_count": null,
      "outputs": []
    },
    {
      "cell_type": "code",
      "metadata": {
        "id": "TxhcOaAWjk2s",
        "outputId": "24df3069-cf63-4c3c-8782-570c21d6248b",
        "colab": {
          "base_uri": "https://localhost:8080/",
          "height": 468
        }
      },
      "source": [
        "lm.summary()"
      ],
      "execution_count": null,
      "outputs": [
        {
          "output_type": "execute_result",
          "data": {
            "text/html": [
              "<table class=\"simpletable\">\n",
              "<caption>OLS Regression Results</caption>\n",
              "<tr>\n",
              "  <th>Dep. Variable:</th>       <td>Collection</td>    <th>  R-squared:         </th> <td>   0.569</td>\n",
              "</tr>\n",
              "<tr>\n",
              "  <th>Model:</th>                   <td>OLS</td>       <th>  Adj. R-squared:    </th> <td>   0.568</td>\n",
              "</tr>\n",
              "<tr>\n",
              "  <th>Method:</th>             <td>Least Squares</td>  <th>  F-statistic:       </th> <td>   525.5</td>\n",
              "</tr>\n",
              "<tr>\n",
              "  <th>Date:</th>             <td>Sat, 03 Oct 2020</td> <th>  Prob (F-statistic):</th> <td>9.43e-75</td>\n",
              "</tr>\n",
              "<tr>\n",
              "  <th>Time:</th>                 <td>18:45:35</td>     <th>  Log-Likelihood:    </th> <td> -4324.8</td>\n",
              "</tr>\n",
              "<tr>\n",
              "  <th>No. Observations:</th>      <td>   400</td>      <th>  AIC:               </th> <td>   8654.</td>\n",
              "</tr>\n",
              "<tr>\n",
              "  <th>Df Residuals:</th>          <td>   398</td>      <th>  BIC:               </th> <td>   8662.</td>\n",
              "</tr>\n",
              "<tr>\n",
              "  <th>Df Model:</th>              <td>     1</td>      <th>                     </th>     <td> </td>   \n",
              "</tr>\n",
              "<tr>\n",
              "  <th>Covariance Type:</th>      <td>nonrobust</td>    <th>                     </th>     <td> </td>   \n",
              "</tr>\n",
              "</table>\n",
              "<table class=\"simpletable\">\n",
              "<tr>\n",
              "     <td></td>       <th>coef</th>     <th>std err</th>      <th>t</th>      <th>P>|t|</th>  <th>[0.025</th>    <th>0.975]</th>  \n",
              "</tr>\n",
              "<tr>\n",
              "  <th>const</th>  <td>-7.062e+04</td> <td> 5237.404</td> <td>  -13.485</td> <td> 0.000</td> <td>-8.09e+04</td> <td>-6.03e+04</td>\n",
              "</tr>\n",
              "<tr>\n",
              "  <th>Budget</th> <td>    3.3886</td> <td>    0.148</td> <td>   22.925</td> <td> 0.000</td> <td>    3.098</td> <td>    3.679</td>\n",
              "</tr>\n",
              "</table>\n",
              "<table class=\"simpletable\">\n",
              "<tr>\n",
              "  <th>Omnibus:</th>       <td>157.287</td> <th>  Durbin-Watson:     </th> <td>   0.824</td>\n",
              "</tr>\n",
              "<tr>\n",
              "  <th>Prob(Omnibus):</th> <td> 0.000</td>  <th>  Jarque-Bera (JB):  </th> <td>1511.036</td>\n",
              "</tr>\n",
              "<tr>\n",
              "  <th>Skew:</th>          <td> 1.389</td>  <th>  Prob(JB):          </th> <td>    0.00</td>\n",
              "</tr>\n",
              "<tr>\n",
              "  <th>Kurtosis:</th>      <td>12.107</td>  <th>  Cond. No.          </th> <td>3.08e+05</td>\n",
              "</tr>\n",
              "</table><br/><br/>Warnings:<br/>[1] Standard Errors assume that the covariance matrix of the errors is correctly specified.<br/>[2] The condition number is large, 3.08e+05. This might indicate that there are<br/>strong multicollinearity or other numerical problems."
            ],
            "text/plain": [
              "<class 'statsmodels.iolib.summary.Summary'>\n",
              "\"\"\"\n",
              "                            OLS Regression Results                            \n",
              "==============================================================================\n",
              "Dep. Variable:             Collection   R-squared:                       0.569\n",
              "Model:                            OLS   Adj. R-squared:                  0.568\n",
              "Method:                 Least Squares   F-statistic:                     525.5\n",
              "Date:                Sat, 03 Oct 2020   Prob (F-statistic):           9.43e-75\n",
              "Time:                        18:45:35   Log-Likelihood:                -4324.8\n",
              "No. Observations:                 400   AIC:                             8654.\n",
              "Df Residuals:                     398   BIC:                             8662.\n",
              "Df Model:                           1                                         \n",
              "Covariance Type:            nonrobust                                         \n",
              "==============================================================================\n",
              "                 coef    std err          t      P>|t|      [0.025      0.975]\n",
              "------------------------------------------------------------------------------\n",
              "const      -7.062e+04   5237.404    -13.485      0.000   -8.09e+04   -6.03e+04\n",
              "Budget         3.3886      0.148     22.925      0.000       3.098       3.679\n",
              "==============================================================================\n",
              "Omnibus:                      157.287   Durbin-Watson:                   0.824\n",
              "Prob(Omnibus):                  0.000   Jarque-Bera (JB):             1511.036\n",
              "Skew:                           1.389   Prob(JB):                         0.00\n",
              "Kurtosis:                      12.107   Cond. No.                     3.08e+05\n",
              "==============================================================================\n",
              "\n",
              "Warnings:\n",
              "[1] Standard Errors assume that the covariance matrix of the errors is correctly specified.\n",
              "[2] The condition number is large, 3.08e+05. This might indicate that there are\n",
              "strong multicollinearity or other numerical problems.\n",
              "\"\"\""
            ]
          },
          "metadata": {
            "tags": []
          },
          "execution_count": 57
        }
      ]
    },
    {
      "cell_type": "code",
      "metadata": {
        "id": "0-r8DrZajvVT"
      },
      "source": [
        "from sklearn.linear_model import LinearRegression"
      ],
      "execution_count": null,
      "outputs": []
    },
    {
      "cell_type": "code",
      "metadata": {
        "id": "Ns5D0riCkcmE"
      },
      "source": [
        "import numpy as np\n"
      ],
      "execution_count": null,
      "outputs": []
    },
    {
      "cell_type": "code",
      "metadata": {
        "id": "HPmzftVXkiUq"
      },
      "source": [
        "lm2=LinearRegression()"
      ],
      "execution_count": null,
      "outputs": []
    },
    {
      "cell_type": "code",
      "metadata": {
        "id": "9F1Nui5clC5F"
      },
      "source": [
        "X=df[['Budget']]"
      ],
      "execution_count": null,
      "outputs": []
    },
    {
      "cell_type": "code",
      "metadata": {
        "id": "De7HgSz5lNLh"
      },
      "source": [
        "Y=df[['Collection']]"
      ],
      "execution_count": null,
      "outputs": []
    },
    {
      "cell_type": "code",
      "metadata": {
        "id": "9k8Ksq3ZlQl9",
        "outputId": "b61cb532-0d2a-490f-8d07-a64feb7b2d26",
        "colab": {
          "base_uri": "https://localhost:8080/",
          "height": 35
        }
      },
      "source": [
        "lm2.fit(X,Y)"
      ],
      "execution_count": null,
      "outputs": [
        {
          "output_type": "execute_result",
          "data": {
            "text/plain": [
              "LinearRegression(copy_X=True, fit_intercept=True, n_jobs=None, normalize=False)"
            ]
          },
          "metadata": {
            "tags": []
          },
          "execution_count": 63
        }
      ]
    },
    {
      "cell_type": "code",
      "metadata": {
        "id": "9Y9Zg52elWOI",
        "outputId": "b1734905-9b55-42e1-831c-5822faa5bff0",
        "colab": {
          "base_uri": "https://localhost:8080/",
          "height": 35
        }
      },
      "source": [
        "print(lm2.intercept_,lm2.coef_)"
      ],
      "execution_count": null,
      "outputs": [
        {
          "output_type": "stream",
          "text": [
            "[-70624.1054591] [[3.388584]]\n"
          ],
          "name": "stdout"
        }
      ]
    },
    {
      "cell_type": "code",
      "metadata": {
        "id": "lbhXoFUHliFD",
        "outputId": "04e04af4-ea0d-4793-d1f3-d32ad0f413d7",
        "colab": {
          "base_uri": "https://localhost:8080/",
          "height": 1000
        }
      },
      "source": [
        "lm2.predict(X)"
      ],
      "execution_count": null,
      "outputs": [
        {
          "output_type": "execute_result",
          "data": {
            "text/plain": [
              "array([[53140.96012105],\n",
              "       [50242.12816678],\n",
              "       [64623.34643343],\n",
              "       [61103.33620324],\n",
              "       [63908.05023692],\n",
              "       [50411.54042385],\n",
              "       [42543.28226225],\n",
              "       [45555.05572123],\n",
              "       [35371.49671304],\n",
              "       [42392.6935893 ],\n",
              "       [49413.89046556],\n",
              "       [42486.81150989],\n",
              "       [40227.98141565],\n",
              "       [41357.39646277],\n",
              "       [44124.46332822],\n",
              "       [39192.68428913],\n",
              "       [41093.86628511],\n",
              "       [42129.16341164],\n",
              "       [32077.36949228],\n",
              "       [37178.56078843],\n",
              "       [34223.2580818 ],\n",
              "       [41658.57380867],\n",
              "       [44990.34819767],\n",
              "       [38797.38902264],\n",
              "       [40886.80685981],\n",
              "       [34769.14202124],\n",
              "       [38797.38902264],\n",
              "       [43202.1077064 ],\n",
              "       [51635.07339156],\n",
              "       [55004.4949488 ],\n",
              "       [36915.03061077],\n",
              "       [43672.69730937],\n",
              "       [41376.22004689],\n",
              "       [36689.14760135],\n",
              "       [44124.46332822],\n",
              "       [41056.21911687],\n",
              "       [39324.44937796],\n",
              "       [39493.86163503],\n",
              "       [41677.39739279],\n",
              "       [53517.43180342],\n",
              "       [61592.74939033],\n",
              "       [56811.55902419],\n",
              "       [45498.58496888],\n",
              "       [46289.17550186],\n",
              "       [43616.22655701],\n",
              "       [36331.49950309],\n",
              "       [38289.15225143],\n",
              "       [42882.10677638],\n",
              "       [31004.42519751],\n",
              "       [34825.6127736 ],\n",
              "       [41620.92664043],\n",
              "       [44482.11142647],\n",
              "       [51936.25073746],\n",
              "       [42279.75208459],\n",
              "       [40209.15783154],\n",
              "       [65828.05581702],\n",
              "       [49526.83197027],\n",
              "       [57677.44389365],\n",
              "       [45046.81895003],\n",
              "       [40943.27761216],\n",
              "       [37442.09096609],\n",
              "       [41677.39739279],\n",
              "       [50900.95361093],\n",
              "       [56660.97035124],\n",
              "       [63098.63611982],\n",
              "       [47776.23864723],\n",
              "       [38307.97583555],\n",
              "       [40020.92199035],\n",
              "       [34675.02410065],\n",
              "       [40152.68707918],\n",
              "       [50166.8338303 ],\n",
              "       [41583.2794722 ],\n",
              "       [43540.93222054],\n",
              "       [46929.17736189],\n",
              "       [47456.23771722],\n",
              "       [47700.94431076],\n",
              "       [47569.17922193],\n",
              "       [44952.70102944],\n",
              "       [46684.47076835],\n",
              "       [39945.62765387],\n",
              "       [56002.14490709],\n",
              "       [53969.19782227],\n",
              "       [48002.12165666],\n",
              "       [45460.93780064],\n",
              "       [49639.77347498],\n",
              "       [54176.25724758],\n",
              "       [42599.7530146 ],\n",
              "       [44595.05293118],\n",
              "       [61272.74846031],\n",
              "       [62628.04651685],\n",
              "       [50166.8338303 ],\n",
              "       [49940.95082088],\n",
              "       [50637.42343327],\n",
              "       [46289.17550186],\n",
              "       [47004.47169837],\n",
              "       [54082.13932698],\n",
              "       [45385.64346417],\n",
              "       [81263.39479432],\n",
              "       [76576.32234878],\n",
              "       [68971.59436484],\n",
              "       [56002.14490709],\n",
              "       [57018.61844949],\n",
              "       [49940.95082088],\n",
              "       [44896.23027708],\n",
              "       [45460.93780064],\n",
              "       [39512.68521914],\n",
              "       [39230.33145737],\n",
              "       [44707.99443589],\n",
              "       [51239.77812507],\n",
              "       [46628.000016  ],\n",
              "       [45987.99815596],\n",
              "       [55776.26189766],\n",
              "       [40679.7474345 ],\n",
              "       [44049.16899174],\n",
              "       [47098.58961896],\n",
              "       [40962.10119628],\n",
              "       [45630.35005771],\n",
              "       [42712.69451932],\n",
              "       [39907.98048564],\n",
              "       [37253.85512491],\n",
              "       [39870.3333174 ],\n",
              "       [42392.6935893 ],\n",
              "       [41583.2794722 ],\n",
              "       [39606.80313974],\n",
              "       [40039.74557447],\n",
              "       [42053.86907516],\n",
              "       [35032.6721989 ],\n",
              "       [36538.5589284 ],\n",
              "       [50430.36400796],\n",
              "       [35484.43821775],\n",
              "       [50938.60077917],\n",
              "       [48453.88767551],\n",
              "       [49319.77254496],\n",
              "       [38966.8012797 ],\n",
              "       [37743.26831199],\n",
              "       [48623.29993257],\n",
              "       [41225.63137394],\n",
              "       [50863.30644269],\n",
              "       [39625.62672386],\n",
              "       [45159.76045474],\n",
              "       [45592.70288947],\n",
              "       [23851.46323242],\n",
              "       [31079.71953399],\n",
              "       [32303.2525017 ],\n",
              "       [21667.92747466],\n",
              "       [44764.46518825],\n",
              "       [35315.02596068],\n",
              "       [22100.86990939],\n",
              "       [26995.00178024],\n",
              "       [34731.49485301],\n",
              "       [44613.8765153 ],\n",
              "       [31098.54311811],\n",
              "       [23719.69814359],\n",
              "       [36839.7362743 ],\n",
              "       [44745.64160413],\n",
              "       [45178.58403886],\n",
              "       [28613.83001444],\n",
              "       [60068.03907672],\n",
              "       [43559.75580466],\n",
              "       [51917.42715334],\n",
              "       [47023.29528249],\n",
              "       [70345.7160055 ],\n",
              "       [76237.49783464],\n",
              "       [87023.41153463],\n",
              "       [39569.1559715 ],\n",
              "       [44218.58124881],\n",
              "       [78628.09301771],\n",
              "       [40002.09840623],\n",
              "       [48322.12258668],\n",
              "       [49884.48006852],\n",
              "       [39964.45123799],\n",
              "       [40058.56915859],\n",
              "       [34260.90525004],\n",
              "       [50148.01024618],\n",
              "       [39663.27389209],\n",
              "       [52595.07618161],\n",
              "       [42693.8709352 ],\n",
              "       [48246.8282502 ],\n",
              "       [58505.68159487],\n",
              "       [60764.51168911],\n",
              "       [75541.02522225],\n",
              "       [45027.99536591],\n",
              "       [64058.63890987],\n",
              "       [52915.07711163],\n",
              "       [34863.25994184],\n",
              "       [45197.40762298],\n",
              "       [76783.38177408],\n",
              "       [57037.44203361],\n",
              "       [52783.3120228 ],\n",
              "       [64623.34643343],\n",
              "       [60218.62774967],\n",
              "       [56228.02791651],\n",
              "       [64491.5813446 ],\n",
              "       [57376.26654775],\n",
              "       [53686.84406049],\n",
              "       [77611.6194753 ],\n",
              "       [66543.35201353],\n",
              "       [63155.10687218],\n",
              "       [66298.64541999],\n",
              "       [60670.39376851],\n",
              "       [63682.1672275 ],\n",
              "       [45366.81988005],\n",
              "       [72623.36968386],\n",
              "       [77197.50062469],\n",
              "       [80604.56935017],\n",
              "       [40265.62858389],\n",
              "       [48453.88767551],\n",
              "       [38232.68149908],\n",
              "       [43522.10863642],\n",
              "       [29969.12807099],\n",
              "       [41564.45588808],\n",
              "       [31098.54311811],\n",
              "       [38684.44751792],\n",
              "       [49376.24329732],\n",
              "       [31249.13179106],\n",
              "       [45743.29156242],\n",
              "       [40209.15783154],\n",
              "       [54402.140257  ],\n",
              "       [41395.04363101],\n",
              "       [49338.59612908],\n",
              "       [60218.62774967],\n",
              "       [45404.46704828],\n",
              "       [58863.32969312],\n",
              "       [53950.37423815],\n",
              "       [84971.6408657 ],\n",
              "       [93611.66597616],\n",
              "       [80717.51085488],\n",
              "       [64209.22758282],\n",
              "       [74053.96207688],\n",
              "       [52708.01768632],\n",
              "       [41959.75115457],\n",
              "       [68896.30002837],\n",
              "       [86308.11533812],\n",
              "       [84613.99276744],\n",
              "       [55983.32132297],\n",
              "       [43936.22748703],\n",
              "       [54195.0808317 ],\n",
              "       [67879.82648596],\n",
              "       [51371.5432139 ],\n",
              "       [53724.49122873],\n",
              "       [59202.15420726],\n",
              "       [44105.6397441 ],\n",
              "       [49056.2423673 ],\n",
              "       [49715.06781146],\n",
              "       [34656.20051653],\n",
              "       [34882.08352596],\n",
              "       [44350.34633764],\n",
              "       [46571.52926364],\n",
              "       [50468.0111762 ],\n",
              "       [55832.73265002],\n",
              "       [51484.48471861],\n",
              "       [50562.1290968 ],\n",
              "       [60331.56925438],\n",
              "       [84839.87577687],\n",
              "       [44350.34633764],\n",
              "       [39983.27482211],\n",
              "       [69686.89056135],\n",
              "       [93216.37070967],\n",
              "       [67409.23688299],\n",
              "       [58166.85708073],\n",
              "       [64962.17094757],\n",
              "       [70929.24711318],\n",
              "       [87456.35396936],\n",
              "       [67296.29537828],\n",
              "       [65018.64169992],\n",
              "       [34035.02224062],\n",
              "       [61404.51354914],\n",
              "       [85555.17197337],\n",
              "       [69988.06790725],\n",
              "       [40811.51252333],\n",
              "       [39606.80313974],\n",
              "       [46835.0594413 ],\n",
              "       [52444.48750866],\n",
              "       [74148.07999747],\n",
              "       [56585.67601476],\n",
              "       [58392.74009016],\n",
              "       [66166.88033116],\n",
              "       [57865.67973483],\n",
              "       [51390.36679802],\n",
              "       [57602.14955717],\n",
              "       [76576.32234878],\n",
              "       [60538.62867968],\n",
              "       [73282.19512801],\n",
              "       [78515.151513  ],\n",
              "       [62797.45877392],\n",
              "       [50844.48285858],\n",
              "       [46646.82360012],\n",
              "       [46251.52833362],\n",
              "       [48246.8282502 ],\n",
              "       [52952.72427986],\n",
              "       [58524.50517899],\n",
              "       [63926.87382104],\n",
              "       [54176.25724758],\n",
              "       [44707.99443589],\n",
              "       [42486.81150989],\n",
              "       [55079.78928527],\n",
              "       [52651.54693397],\n",
              "       [38364.44658791],\n",
              "       [48811.53577376],\n",
              "       [61912.75032034],\n",
              "       [58712.74102017],\n",
              "       [53423.31388283],\n",
              "       [51635.07339156],\n",
              "       [60802.15885734],\n",
              "       [65583.34922348],\n",
              "       [53912.72706992],\n",
              "       [69046.88870131],\n",
              "       [58298.62216956],\n",
              "       [54270.37516817],\n",
              "       [41790.3388975 ],\n",
              "       [22985.57836297],\n",
              "       [44613.8765153 ],\n",
              "       [42750.34168755],\n",
              "       [47324.47262839],\n",
              "       [52990.3714481 ],\n",
              "       [36764.44193782],\n",
              "       [40698.57101862],\n",
              "       [38213.85791496],\n",
              "       [49508.00838615],\n",
              "       [44444.46425823],\n",
              "       [50336.24608737],\n",
              "       [49395.06688144],\n",
              "       [43089.16620169],\n",
              "       [36820.91269018],\n",
              "       [50129.18666207],\n",
              "       [50430.36400796],\n",
              "       [48190.35749784],\n",
              "       [43879.75673467],\n",
              "       [39832.68614916],\n",
              "       [48585.65276434],\n",
              "       [45027.99536591],\n",
              "       [36783.26552194],\n",
              "       [42900.9303605 ],\n",
              "       [48265.65183432],\n",
              "       [48152.71032961],\n",
              "       [43013.87186521],\n",
              "       [39851.50973328],\n",
              "       [40340.92292037],\n",
              "       [43427.99071583],\n",
              "       [42035.04549104],\n",
              "       [41715.04456103],\n",
              "       [65677.46714408],\n",
              "       [52482.1346769 ],\n",
              "       [55418.61379941],\n",
              "       [58769.21177253],\n",
              "       [42580.92943049],\n",
              "       [40397.39367272],\n",
              "       [52030.36865805],\n",
              "       [54270.37516817],\n",
              "       [59992.74474024],\n",
              "       [51540.95547097],\n",
              "       [53216.25445753],\n",
              "       [40133.86349506],\n",
              "       [56020.96849121],\n",
              "       [35973.85140484],\n",
              "       [41112.68986923],\n",
              "       [46307.99908598],\n",
              "       [49752.71497969],\n",
              "       [44707.99443589],\n",
              "       [44425.64067411],\n",
              "       [49809.18573205],\n",
              "       [47042.11886661],\n",
              "       [30307.95258512],\n",
              "       [38609.15318145],\n",
              "       [94646.96310268],\n",
              "       [-3593.32241257],\n",
              "       [22797.34252178],\n",
              "       [ 2091.39999126],\n",
              "       [22929.10761061],\n",
              "       [55173.90720587],\n",
              "       [61442.16071738],\n",
              "       [46383.29342245],\n",
              "       [39964.45123799],\n",
              "       [21724.39822702],\n",
              "       [ 7267.88562389],\n",
              "       [67032.76520062],\n",
              "       [54533.90534583],\n",
              "       [57263.32504304],\n",
              "       [49470.36121791],\n",
              "       [46515.05851128],\n",
              "       [60538.62867968],\n",
              "       [52576.25259749],\n",
              "       [33583.25622177],\n",
              "       [33282.07887587],\n",
              "       [11597.30997118],\n",
              "       [28707.94793504],\n",
              "       [16943.20786088],\n",
              "       [23493.81513417],\n",
              "       [21234.98503993],\n",
              "       [30835.01294044],\n",
              "       [36915.03061077],\n",
              "       [43277.40204288],\n",
              "       [24171.46416244],\n",
              "       [45950.35098772],\n",
              "       [40190.33424742],\n",
              "       [51183.30737271],\n",
              "       [49940.95082088],\n",
              "       [37555.0324708 ],\n",
              "       [32020.89873992],\n",
              "       [39531.50880326]])"
            ]
          },
          "metadata": {
            "tags": []
          },
          "execution_count": 65
        }
      ]
    },
    {
      "cell_type": "code",
      "metadata": {
        "id": "PQCOu0k7lzg2",
        "outputId": "d73b0a65-ad2e-402c-9bb9-4f89b4140168",
        "colab": {
          "base_uri": "https://localhost:8080/",
          "height": 459
        }
      },
      "source": [
        "sns.jointplot(x=df['Budget'],y=df['Collection'],data=df,kind='reg')"
      ],
      "execution_count": null,
      "outputs": [
        {
          "output_type": "execute_result",
          "data": {
            "text/plain": [
              "<seaborn.axisgrid.JointGrid at 0x7fa862f9a048>"
            ]
          },
          "metadata": {
            "tags": []
          },
          "execution_count": 66
        },
        {
          "output_type": "display_data",
          "data": {
            "image/png": "[encoded data removed]",
            "text/plain": [
              "<Figure size 432x432 with 3 Axes>"
            ]
          },
          "metadata": {
            "tags": [],
            "needs_background": "light"
          }
        }
      ]
    },
    {
      "cell_type": "code",
      "metadata": {
        "id": "KQJo2Ottmfcr"
      },
      "source": [
        " x_multi=df.drop(\"Collection\",axis=1)"
      ],
      "execution_count": null,
      "outputs": []
    },
    {
      "cell_type": "code",
      "metadata": {
        "id": "iGFc7JkwsZn4",
        "outputId": "9e80c1d1-9995-43cf-eded-2adb0fa7528a",
        "colab": {
          "base_uri": "https://localhost:8080/",
          "height": 214
        }
      },
      "source": [
        "x_multi.head()"
      ],
      "execution_count": null,
      "outputs": [
        {
          "output_type": "execute_result",
          "data": {
            "text/html": [
              "<div>\n",
              "<style scoped>\n",
              "    .dataframe tbody tr th:only-of-type {\n",
              "        vertical-align: middle;\n",
              "    }\n",
              "\n",
              "    .dataframe tbody tr th {\n",
              "        vertical-align: top;\n",
              "    }\n",
              "\n",
              "    .dataframe thead th {\n",
              "        text-align: right;\n",
              "    }\n",
              "</style>\n",
              "<table border=\"1\" class=\"dataframe\">\n",
              "  <thead>\n",
              "    <tr style=\"text-align: right;\">\n",
              "      <th></th>\n",
              "      <th>Marketin_expense</th>\n",
              "      <th>Production_expense</th>\n",
              "      <th>Multiplex_coverage</th>\n",
              "      <th>Budget</th>\n",
              "      <th>Movie_length</th>\n",
              "      <th>Critic_rating</th>\n",
              "      <th>Trailer_views</th>\n",
              "      <th>Time_taken</th>\n",
              "      <th>Twitter_hastags</th>\n",
              "      <th>Avg_age_actors</th>\n",
              "      <th>Num_multiplex</th>\n",
              "      <th>avg_rating</th>\n",
              "      <th>Genre_Action</th>\n",
              "      <th>Genre_Comedy</th>\n",
              "      <th>Genre_Drama</th>\n",
              "      <th>Genre_Thriller</th>\n",
              "      <th>3D_available_NO</th>\n",
              "      <th>3D_available_YES</th>\n",
              "    </tr>\n",
              "  </thead>\n",
              "  <tbody>\n",
              "    <tr>\n",
              "      <th>0</th>\n",
              "      <td>3.050523</td>\n",
              "      <td>59.62</td>\n",
              "      <td>0.462</td>\n",
              "      <td>36524.125</td>\n",
              "      <td>138.7</td>\n",
              "      <td>7.94</td>\n",
              "      <td>527367</td>\n",
              "      <td>109.60</td>\n",
              "      <td>223.840</td>\n",
              "      <td>23</td>\n",
              "      <td>494</td>\n",
              "      <td>7.95625</td>\n",
              "      <td>0</td>\n",
              "      <td>0</td>\n",
              "      <td>0</td>\n",
              "      <td>1</td>\n",
              "      <td>0</td>\n",
              "      <td>1</td>\n",
              "    </tr>\n",
              "    <tr>\n",
              "      <th>1</th>\n",
              "      <td>3.070199</td>\n",
              "      <td>69.14</td>\n",
              "      <td>0.531</td>\n",
              "      <td>35668.655</td>\n",
              "      <td>152.4</td>\n",
              "      <td>7.44</td>\n",
              "      <td>494055</td>\n",
              "      <td>146.64</td>\n",
              "      <td>243.456</td>\n",
              "      <td>42</td>\n",
              "      <td>462</td>\n",
              "      <td>7.51625</td>\n",
              "      <td>0</td>\n",
              "      <td>0</td>\n",
              "      <td>1</td>\n",
              "      <td>0</td>\n",
              "      <td>1</td>\n",
              "      <td>0</td>\n",
              "    </tr>\n",
              "    <tr>\n",
              "      <th>2</th>\n",
              "      <td>3.070181</td>\n",
              "      <td>69.14</td>\n",
              "      <td>0.531</td>\n",
              "      <td>39912.675</td>\n",
              "      <td>134.6</td>\n",
              "      <td>7.44</td>\n",
              "      <td>547051</td>\n",
              "      <td>147.88</td>\n",
              "      <td>924.000</td>\n",
              "      <td>38</td>\n",
              "      <td>458</td>\n",
              "      <td>7.51625</td>\n",
              "      <td>0</td>\n",
              "      <td>1</td>\n",
              "      <td>0</td>\n",
              "      <td>0</td>\n",
              "      <td>1</td>\n",
              "      <td>0</td>\n",
              "    </tr>\n",
              "    <tr>\n",
              "      <th>3</th>\n",
              "      <td>3.074885</td>\n",
              "      <td>59.36</td>\n",
              "      <td>0.542</td>\n",
              "      <td>38873.890</td>\n",
              "      <td>119.3</td>\n",
              "      <td>8.26</td>\n",
              "      <td>516279</td>\n",
              "      <td>185.36</td>\n",
              "      <td>225.344</td>\n",
              "      <td>45</td>\n",
              "      <td>472</td>\n",
              "      <td>6.96750</td>\n",
              "      <td>0</td>\n",
              "      <td>0</td>\n",
              "      <td>1</td>\n",
              "      <td>0</td>\n",
              "      <td>0</td>\n",
              "      <td>1</td>\n",
              "    </tr>\n",
              "    <tr>\n",
              "      <th>4</th>\n",
              "      <td>3.108212</td>\n",
              "      <td>59.36</td>\n",
              "      <td>0.542</td>\n",
              "      <td>39701.585</td>\n",
              "      <td>127.7</td>\n",
              "      <td>8.26</td>\n",
              "      <td>531448</td>\n",
              "      <td>176.48</td>\n",
              "      <td>225.792</td>\n",
              "      <td>55</td>\n",
              "      <td>395</td>\n",
              "      <td>6.96875</td>\n",
              "      <td>0</td>\n",
              "      <td>0</td>\n",
              "      <td>1</td>\n",
              "      <td>0</td>\n",
              "      <td>1</td>\n",
              "      <td>0</td>\n",
              "    </tr>\n",
              "  </tbody>\n",
              "</table>\n",
              "</div>"
            ],
            "text/plain": [
              "   Marketin_expense  Production_expense  ...  3D_available_NO  3D_available_YES\n",
              "0          3.050523               59.62  ...                0                 1\n",
              "1          3.070199               69.14  ...                1                 0\n",
              "2          3.070181               69.14  ...                1                 0\n",
              "3          3.074885               59.36  ...                0                 1\n",
              "4          3.108212               59.36  ...                1                 0\n",
              "\n",
              "[5 rows x 18 columns]"
            ]
          },
          "metadata": {
            "tags": []
          },
          "execution_count": 68
        }
      ]
    },
    {
      "cell_type": "code",
      "metadata": {
        "id": "JEIVclKMsg-x"
      },
      "source": [
        "y_multi=df['Collection']"
      ],
      "execution_count": null,
      "outputs": []
    },
    {
      "cell_type": "code",
      "metadata": {
        "id": "yp5CEUHksxlg",
        "outputId": "6714b35f-e942-49c3-ca92-051a533bc052",
        "colab": {
          "base_uri": "https://localhost:8080/",
          "height": 124
        }
      },
      "source": [
        "y_multi.head(\n",
        ")"
      ],
      "execution_count": null,
      "outputs": [
        {
          "output_type": "execute_result",
          "data": {
            "text/plain": [
              "0    48000\n",
              "1    43200\n",
              "2    69400\n",
              "3    66800\n",
              "4    72400\n",
              "Name: Collection, dtype: int64"
            ]
          },
          "metadata": {
            "tags": []
          },
          "execution_count": 70
        }
      ]
    },
    {
      "cell_type": "code",
      "metadata": {
        "id": "2__HyYGis1kL"
      },
      "source": [
        "x_multi_cons= sn.add_constant(x_multi)"
      ],
      "execution_count": null,
      "outputs": []
    },
    {
      "cell_type": "code",
      "metadata": {
        "id": "FK-NMrhGs-gD",
        "outputId": "01c8a853-3855-4018-a824-262e15a1beb0",
        "colab": {
          "base_uri": "https://localhost:8080/",
          "height": 214
        }
      },
      "source": [
        "x_multi_cons.head()"
      ],
      "execution_count": null,
      "outputs": [
        {
          "output_type": "execute_result",
          "data": {
            "text/html": [
              "<div>\n",
              "<style scoped>\n",
              "    .dataframe tbody tr th:only-of-type {\n",
              "        vertical-align: middle;\n",
              "    }\n",
              "\n",
              "    .dataframe tbody tr th {\n",
              "        vertical-align: top;\n",
              "    }\n",
              "\n",
              "    .dataframe thead th {\n",
              "        text-align: right;\n",
              "    }\n",
              "</style>\n",
              "<table border=\"1\" class=\"dataframe\">\n",
              "  <thead>\n",
              "    <tr style=\"text-align: right;\">\n",
              "      <th></th>\n",
              "      <th>const</th>\n",
              "      <th>Marketin_expense</th>\n",
              "      <th>Production_expense</th>\n",
              "      <th>Multiplex_coverage</th>\n",
              "      <th>Budget</th>\n",
              "      <th>Movie_length</th>\n",
              "      <th>Critic_rating</th>\n",
              "      <th>Trailer_views</th>\n",
              "      <th>Time_taken</th>\n",
              "      <th>Twitter_hastags</th>\n",
              "      <th>Avg_age_actors</th>\n",
              "      <th>Num_multiplex</th>\n",
              "      <th>avg_rating</th>\n",
              "      <th>Genre_Action</th>\n",
              "      <th>Genre_Comedy</th>\n",
              "      <th>Genre_Drama</th>\n",
              "      <th>Genre_Thriller</th>\n",
              "      <th>3D_available_NO</th>\n",
              "      <th>3D_available_YES</th>\n",
              "    </tr>\n",
              "  </thead>\n",
              "  <tbody>\n",
              "    <tr>\n",
              "      <th>0</th>\n",
              "      <td>1.0</td>\n",
              "      <td>3.050523</td>\n",
              "      <td>59.62</td>\n",
              "      <td>0.462</td>\n",
              "      <td>36524.125</td>\n",
              "      <td>138.7</td>\n",
              "      <td>7.94</td>\n",
              "      <td>527367</td>\n",
              "      <td>109.60</td>\n",
              "      <td>223.840</td>\n",
              "      <td>23</td>\n",
              "      <td>494</td>\n",
              "      <td>7.95625</td>\n",
              "      <td>0</td>\n",
              "      <td>0</td>\n",
              "      <td>0</td>\n",
              "      <td>1</td>\n",
              "      <td>0</td>\n",
              "      <td>1</td>\n",
              "    </tr>\n",
              "    <tr>\n",
              "      <th>1</th>\n",
              "      <td>1.0</td>\n",
              "      <td>3.070199</td>\n",
              "      <td>69.14</td>\n",
              "      <td>0.531</td>\n",
              "      <td>35668.655</td>\n",
              "      <td>152.4</td>\n",
              "      <td>7.44</td>\n",
              "      <td>494055</td>\n",
              "      <td>146.64</td>\n",
              "      <td>243.456</td>\n",
              "      <td>42</td>\n",
              "      <td>462</td>\n",
              "      <td>7.51625</td>\n",
              "      <td>0</td>\n",
              "      <td>0</td>\n",
              "      <td>1</td>\n",
              "      <td>0</td>\n",
              "      <td>1</td>\n",
              "      <td>0</td>\n",
              "    </tr>\n",
              "    <tr>\n",
              "      <th>2</th>\n",
              "      <td>1.0</td>\n",
              "      <td>3.070181</td>\n",
              "      <td>69.14</td>\n",
              "      <td>0.531</td>\n",
              "      <td>39912.675</td>\n",
              "      <td>134.6</td>\n",
              "      <td>7.44</td>\n",
              "      <td>547051</td>\n",
              "      <td>147.88</td>\n",
              "      <td>924.000</td>\n",
              "      <td>38</td>\n",
              "      <td>458</td>\n",
              "      <td>7.51625</td>\n",
              "      <td>0</td>\n",
              "      <td>1</td>\n",
              "      <td>0</td>\n",
              "      <td>0</td>\n",
              "      <td>1</td>\n",
              "      <td>0</td>\n",
              "    </tr>\n",
              "    <tr>\n",
              "      <th>3</th>\n",
              "      <td>1.0</td>\n",
              "      <td>3.074885</td>\n",
              "      <td>59.36</td>\n",
              "      <td>0.542</td>\n",
              "      <td>38873.890</td>\n",
              "      <td>119.3</td>\n",
              "      <td>8.26</td>\n",
              "      <td>516279</td>\n",
              "      <td>185.36</td>\n",
              "      <td>225.344</td>\n",
              "      <td>45</td>\n",
              "      <td>472</td>\n",
              "      <td>6.96750</td>\n",
              "      <td>0</td>\n",
              "      <td>0</td>\n",
              "      <td>1</td>\n",
              "      <td>0</td>\n",
              "      <td>0</td>\n",
              "      <td>1</td>\n",
              "    </tr>\n",
              "    <tr>\n",
              "      <th>4</th>\n",
              "      <td>1.0</td>\n",
              "      <td>3.108212</td>\n",
              "      <td>59.36</td>\n",
              "      <td>0.542</td>\n",
              "      <td>39701.585</td>\n",
              "      <td>127.7</td>\n",
              "      <td>8.26</td>\n",
              "      <td>531448</td>\n",
              "      <td>176.48</td>\n",
              "      <td>225.792</td>\n",
              "      <td>55</td>\n",
              "      <td>395</td>\n",
              "      <td>6.96875</td>\n",
              "      <td>0</td>\n",
              "      <td>0</td>\n",
              "      <td>1</td>\n",
              "      <td>0</td>\n",
              "      <td>1</td>\n",
              "      <td>0</td>\n",
              "    </tr>\n",
              "  </tbody>\n",
              "</table>\n",
              "</div>"
            ],
            "text/plain": [
              "   const  Marketin_expense  ...  3D_available_NO  3D_available_YES\n",
              "0    1.0          3.050523  ...                0                 1\n",
              "1    1.0          3.070199  ...                1                 0\n",
              "2    1.0          3.070181  ...                1                 0\n",
              "3    1.0          3.074885  ...                0                 1\n",
              "4    1.0          3.108212  ...                1                 0\n",
              "\n",
              "[5 rows x 19 columns]"
            ]
          },
          "metadata": {
            "tags": []
          },
          "execution_count": 72
        }
      ]
    },
    {
      "cell_type": "code",
      "metadata": {
        "id": "y1jQk12PtBjw"
      },
      "source": [
        "lm_multi=sn.OLS(y_multi,x_multi_cons).fit()"
      ],
      "execution_count": null,
      "outputs": []
    },
    {
      "cell_type": "code",
      "metadata": {
        "id": "YzRvISn3tbUB",
        "outputId": "481b967e-c2f9-4972-d91e-758dc64cab24",
        "colab": {
          "base_uri": "https://localhost:8080/",
          "height": 815
        }
      },
      "source": [
        "lm_multi.summary()"
      ],
      "execution_count": null,
      "outputs": [
        {
          "output_type": "execute_result",
          "data": {
            "text/html": [
              "<table class=\"simpletable\">\n",
              "<caption>OLS Regression Results</caption>\n",
              "<tr>\n",
              "  <th>Dep. Variable:</th>       <td>Collection</td>    <th>  R-squared:         </th> <td>   0.694</td>\n",
              "</tr>\n",
              "<tr>\n",
              "  <th>Model:</th>                   <td>OLS</td>       <th>  Adj. R-squared:    </th> <td>   0.681</td>\n",
              "</tr>\n",
              "<tr>\n",
              "  <th>Method:</th>             <td>Least Squares</td>  <th>  F-statistic:       </th> <td>   54.20</td>\n",
              "</tr>\n",
              "<tr>\n",
              "  <th>Date:</th>             <td>Sat, 03 Oct 2020</td> <th>  Prob (F-statistic):</th> <td>6.87e-88</td>\n",
              "</tr>\n",
              "<tr>\n",
              "  <th>Time:</th>                 <td>18:45:36</td>     <th>  Log-Likelihood:    </th> <td> -4256.5</td>\n",
              "</tr>\n",
              "<tr>\n",
              "  <th>No. Observations:</th>      <td>   400</td>      <th>  AIC:               </th> <td>   8547.</td>\n",
              "</tr>\n",
              "<tr>\n",
              "  <th>Df Residuals:</th>          <td>   383</td>      <th>  BIC:               </th> <td>   8615.</td>\n",
              "</tr>\n",
              "<tr>\n",
              "  <th>Df Model:</th>              <td>    16</td>      <th>                     </th>     <td> </td>   \n",
              "</tr>\n",
              "<tr>\n",
              "  <th>Covariance Type:</th>      <td>nonrobust</td>    <th>                     </th>     <td> </td>   \n",
              "</tr>\n",
              "</table>\n",
              "<table class=\"simpletable\">\n",
              "<tr>\n",
              "           <td></td>             <th>coef</th>     <th>std err</th>      <th>t</th>      <th>P>|t|</th>  <th>[0.025</th>    <th>0.975]</th>  \n",
              "</tr>\n",
              "<tr>\n",
              "  <th>const</th>              <td> -9.14e+04</td> <td> 1.12e+04</td> <td>   -8.197</td> <td> 0.000</td> <td>-1.13e+05</td> <td>-6.95e+04</td>\n",
              "</tr>\n",
              "<tr>\n",
              "  <th>Marketin_expense</th>   <td> 1005.4463</td> <td> 1058.606</td> <td>    0.950</td> <td> 0.343</td> <td>-1075.960</td> <td> 3086.853</td>\n",
              "</tr>\n",
              "<tr>\n",
              "  <th>Production_expense</th> <td>  -69.2319</td> <td>   66.695</td> <td>   -1.038</td> <td> 0.300</td> <td> -200.365</td> <td>   61.901</td>\n",
              "</tr>\n",
              "<tr>\n",
              "  <th>Multiplex_coverage</th> <td> 2.785e+04</td> <td> 1.39e+04</td> <td>    1.999</td> <td> 0.046</td> <td>  456.351</td> <td> 5.53e+04</td>\n",
              "</tr>\n",
              "<tr>\n",
              "  <th>Budget</th>             <td>    2.1305</td> <td>    0.176</td> <td>   12.090</td> <td> 0.000</td> <td>    1.784</td> <td>    2.477</td>\n",
              "</tr>\n",
              "<tr>\n",
              "  <th>Movie_length</th>       <td>  -35.9292</td> <td>   30.531</td> <td>   -1.177</td> <td> 0.240</td> <td>  -95.958</td> <td>   24.099</td>\n",
              "</tr>\n",
              "<tr>\n",
              "  <th>Critic_rating</th>      <td> 3652.9177</td> <td>  824.495</td> <td>    4.430</td> <td> 0.000</td> <td> 2031.815</td> <td> 5274.021</td>\n",
              "</tr>\n",
              "<tr>\n",
              "  <th>Trailer_views</th>      <td>    0.1017</td> <td>    0.013</td> <td>    7.938</td> <td> 0.000</td> <td>    0.077</td> <td>    0.127</td>\n",
              "</tr>\n",
              "<tr>\n",
              "  <th>Time_taken</th>         <td>   34.3622</td> <td>   17.025</td> <td>    2.018</td> <td> 0.044</td> <td>    0.889</td> <td>   67.835</td>\n",
              "</tr>\n",
              "<tr>\n",
              "  <th>Twitter_hastags</th>    <td>    6.9781</td> <td>   11.093</td> <td>    0.629</td> <td> 0.530</td> <td>  -14.833</td> <td>   28.789</td>\n",
              "</tr>\n",
              "<tr>\n",
              "  <th>Avg_age_actors</th>     <td>   50.2460</td> <td>   41.711</td> <td>    1.205</td> <td> 0.229</td> <td>  -31.765</td> <td>  132.257</td>\n",
              "</tr>\n",
              "<tr>\n",
              "  <th>Num_multiplex</th>      <td>   16.3707</td> <td>   12.444</td> <td>    1.316</td> <td> 0.189</td> <td>   -8.097</td> <td>   40.838</td>\n",
              "</tr>\n",
              "<tr>\n",
              "  <th>avg_rating</th>         <td> 4155.2832</td> <td>  832.255</td> <td>    4.993</td> <td> 0.000</td> <td> 2518.922</td> <td> 5791.645</td>\n",
              "</tr>\n",
              "<tr>\n",
              "  <th>Genre_Action</th>       <td>-2.583e+04</td> <td> 3108.289</td> <td>   -8.309</td> <td> 0.000</td> <td>-3.19e+04</td> <td>-1.97e+04</td>\n",
              "</tr>\n",
              "<tr>\n",
              "  <th>Genre_Comedy</th>       <td>-2.178e+04</td> <td> 2914.246</td> <td>   -7.475</td> <td> 0.000</td> <td>-2.75e+04</td> <td>-1.61e+04</td>\n",
              "</tr>\n",
              "<tr>\n",
              "  <th>Genre_Drama</th>        <td>-2.116e+04</td> <td> 2968.379</td> <td>   -7.128</td> <td> 0.000</td> <td> -2.7e+04</td> <td>-1.53e+04</td>\n",
              "</tr>\n",
              "<tr>\n",
              "  <th>Genre_Thriller</th>     <td>-2.263e+04</td> <td> 2820.851</td> <td>   -8.024</td> <td> 0.000</td> <td>-2.82e+04</td> <td>-1.71e+04</td>\n",
              "</tr>\n",
              "<tr>\n",
              "  <th>3D_available_NO</th>    <td>-4.692e+04</td> <td> 5577.415</td> <td>   -8.412</td> <td> 0.000</td> <td>-5.79e+04</td> <td>-3.59e+04</td>\n",
              "</tr>\n",
              "<tr>\n",
              "  <th>3D_available_YES</th>   <td>-4.449e+04</td> <td> 5625.797</td> <td>   -7.908</td> <td> 0.000</td> <td>-5.55e+04</td> <td>-3.34e+04</td>\n",
              "</tr>\n",
              "</table>\n",
              "<table class=\"simpletable\">\n",
              "<tr>\n",
              "  <th>Omnibus:</th>       <td>119.670</td> <th>  Durbin-Watson:     </th> <td>   1.021</td> \n",
              "</tr>\n",
              "<tr>\n",
              "  <th>Prob(Omnibus):</th> <td> 0.000</td>  <th>  Jarque-Bera (JB):  </th> <td> 571.313</td> \n",
              "</tr>\n",
              "<tr>\n",
              "  <th>Skew:</th>          <td> 1.205</td>  <th>  Prob(JB):          </th> <td>8.73e-125</td>\n",
              "</tr>\n",
              "<tr>\n",
              "  <th>Kurtosis:</th>      <td> 8.336</td>  <th>  Cond. No.          </th> <td>4.50e+21</td> \n",
              "</tr>\n",
              "</table><br/><br/>Warnings:<br/>[1] Standard Errors assume that the covariance matrix of the errors is correctly specified.<br/>[2] The smallest eigenvalue is 4.36e-30. This might indicate that there are<br/>strong multicollinearity problems or that the design matrix is singular."
            ],
            "text/plain": [
              "<class 'statsmodels.iolib.summary.Summary'>\n",
              "\"\"\"\n",
              "                            OLS Regression Results                            \n",
              "==============================================================================\n",
              "Dep. Variable:             Collection   R-squared:                       0.694\n",
              "Model:                            OLS   Adj. R-squared:                  0.681\n",
              "Method:                 Least Squares   F-statistic:                     54.20\n",
              "Date:                Sat, 03 Oct 2020   Prob (F-statistic):           6.87e-88\n",
              "Time:                        18:45:36   Log-Likelihood:                -4256.5\n",
              "No. Observations:                 400   AIC:                             8547.\n",
              "Df Residuals:                     383   BIC:                             8615.\n",
              "Df Model:                          16                                         \n",
              "Covariance Type:            nonrobust                                         \n",
              "======================================================================================\n",
              "                         coef    std err          t      P>|t|      [0.025      0.975]\n",
              "--------------------------------------------------------------------------------------\n",
              "const               -9.14e+04   1.12e+04     -8.197      0.000   -1.13e+05   -6.95e+04\n",
              "Marketin_expense    1005.4463   1058.606      0.950      0.343   -1075.960    3086.853\n",
              "Production_expense   -69.2319     66.695     -1.038      0.300    -200.365      61.901\n",
              "Multiplex_coverage  2.785e+04   1.39e+04      1.999      0.046     456.351    5.53e+04\n",
              "Budget                 2.1305      0.176     12.090      0.000       1.784       2.477\n",
              "Movie_length         -35.9292     30.531     -1.177      0.240     -95.958      24.099\n",
              "Critic_rating       3652.9177    824.495      4.430      0.000    2031.815    5274.021\n",
              "Trailer_views          0.1017      0.013      7.938      0.000       0.077       0.127\n",
              "Time_taken            34.3622     17.025      2.018      0.044       0.889      67.835\n",
              "Twitter_hastags        6.9781     11.093      0.629      0.530     -14.833      28.789\n",
              "Avg_age_actors        50.2460     41.711      1.205      0.229     -31.765     132.257\n",
              "Num_multiplex         16.3707     12.444      1.316      0.189      -8.097      40.838\n",
              "avg_rating          4155.2832    832.255      4.993      0.000    2518.922    5791.645\n",
              "Genre_Action       -2.583e+04   3108.289     -8.309      0.000   -3.19e+04   -1.97e+04\n",
              "Genre_Comedy       -2.178e+04   2914.246     -7.475      0.000   -2.75e+04   -1.61e+04\n",
              "Genre_Drama        -2.116e+04   2968.379     -7.128      0.000    -2.7e+04   -1.53e+04\n",
              "Genre_Thriller     -2.263e+04   2820.851     -8.024      0.000   -2.82e+04   -1.71e+04\n",
              "3D_available_NO    -4.692e+04   5577.415     -8.412      0.000   -5.79e+04   -3.59e+04\n",
              "3D_available_YES   -4.449e+04   5625.797     -7.908      0.000   -5.55e+04   -3.34e+04\n",
              "==============================================================================\n",
              "Omnibus:                      119.670   Durbin-Watson:                   1.021\n",
              "Prob(Omnibus):                  0.000   Jarque-Bera (JB):              571.313\n",
              "Skew:                           1.205   Prob(JB):                    8.73e-125\n",
              "Kurtosis:                       8.336   Cond. No.                     4.50e+21\n",
              "==============================================================================\n",
              "\n",
              "Warnings:\n",
              "[1] Standard Errors assume that the covariance matrix of the errors is correctly specified.\n",
              "[2] The smallest eigenvalue is 4.36e-30. This might indicate that there are\n",
              "strong multicollinearity problems or that the design matrix is singular.\n",
              "\"\"\""
            ]
          },
          "metadata": {
            "tags": []
          },
          "execution_count": 74
        }
      ]
    },
    {
      "cell_type": "code",
      "metadata": {
        "id": "x0IEb3VUuGBi"
      },
      "source": [
        "lm3=LinearRegression()"
      ],
      "execution_count": null,
      "outputs": []
    },
    {
      "cell_type": "code",
      "metadata": {
        "id": "yPE9wzk4vDDe",
        "outputId": "d51e01b2-70d3-482c-9199-e17bb2c671b6",
        "colab": {
          "base_uri": "https://localhost:8080/",
          "height": 35
        }
      },
      "source": [
        "lm3.fit(x_multi,y_multi)"
      ],
      "execution_count": null,
      "outputs": [
        {
          "output_type": "execute_result",
          "data": {
            "text/plain": [
              "LinearRegression(copy_X=True, fit_intercept=True, n_jobs=None, normalize=False)"
            ]
          },
          "metadata": {
            "tags": []
          },
          "execution_count": 76
        }
      ]
    },
    {
      "cell_type": "code",
      "metadata": {
        "id": "VriA9kPsvIGW",
        "outputId": "436f07d8-3d12-425e-a422-ffa50156eae7",
        "colab": {
          "base_uri": "https://localhost:8080/",
          "height": 106
        }
      },
      "source": [
        "print(lm3.intercept_,lm3.coef_)"
      ],
      "execution_count": null,
      "outputs": [
        {
          "output_type": "stream",
          "text": [
            "-159956.66856290147 [ 1.00544626e+03 -6.92319103e+01  2.78532902e+04  2.13048020e+00\n",
            " -3.59292016e+01  3.65291767e+03  1.01739817e-01  3.43622403e+01\n",
            "  6.97812312e+00  5.02460033e+01  1.63706686e+01  4.15528319e+03\n",
            " -2.97632243e+03  1.06787815e+03  1.69093034e+03  2.17513940e+02\n",
            " -1.21365107e+03  1.21365107e+03]\n"
          ],
          "name": "stdout"
        }
      ]
    },
    {
      "cell_type": "code",
      "metadata": {
        "id": "qQJMKsPtvSZj"
      },
      "source": [
        "from sklearn.model_selection import train_test_split"
      ],
      "execution_count": null,
      "outputs": []
    },
    {
      "cell_type": "code",
      "metadata": {
        "id": "6hyeJsu9yOzH"
      },
      "source": [
        "x_train,x_test,y_train,y_test=train_test_split(x_multi,y_multi,test_size=0.2,random_state=0)"
      ],
      "execution_count": null,
      "outputs": []
    },
    {
      "cell_type": "code",
      "metadata": {
        "id": "SD8qH2UHypjc",
        "outputId": "e856ae4b-35be-4eb6-9ff4-c79ef12cb43c",
        "colab": {
          "base_uri": "https://localhost:8080/",
          "height": 35
        }
      },
      "source": [
        "print(x_train.shape,x_test.shape,y_train.shape,y_test.shape)"
      ],
      "execution_count": null,
      "outputs": [
        {
          "output_type": "stream",
          "text": [
            "(320, 18) (80, 18) (320,) (80,)\n"
          ],
          "name": "stdout"
        }
      ]
    },
    {
      "cell_type": "code",
      "metadata": {
        "id": "DE0A5gJby_--"
      },
      "source": [
        "lm_a=LinearRegression()"
      ],
      "execution_count": null,
      "outputs": []
    },
    {
      "cell_type": "code",
      "metadata": {
        "id": "9413LHfqzMj1",
        "outputId": "1820cde1-69a4-491b-d2bf-edce4b4906d5",
        "colab": {
          "base_uri": "https://localhost:8080/",
          "height": 35
        }
      },
      "source": [
        "lm_a.fit(x_train,y_train)"
      ],
      "execution_count": null,
      "outputs": [
        {
          "output_type": "execute_result",
          "data": {
            "text/plain": [
              "LinearRegression(copy_X=True, fit_intercept=True, n_jobs=None, normalize=False)"
            ]
          },
          "metadata": {
            "tags": []
          },
          "execution_count": 84
        }
      ]
    },
    {
      "cell_type": "code",
      "metadata": {
        "id": "A8My1-ahzTDU"
      },
      "source": [
        "y_test_a = lm_a.predict(x_test)"
      ],
      "execution_count": null,
      "outputs": []
    },
    {
      "cell_type": "code",
      "metadata": {
        "id": "nAP2pJr2zoUb"
      },
      "source": [
        "y_train_a=lm_a.predict(x_train)"
      ],
      "execution_count": null,
      "outputs": []
    },
    {
      "cell_type": "code",
      "metadata": {
        "id": "CBigqFP-z0y-"
      },
      "source": [
        "from sklearn.metrics import r2_score"
      ],
      "execution_count": null,
      "outputs": []
    },
    {
      "cell_type": "markdown",
      "metadata": {
        "id": "gw0NWt9Es9T5"
      },
      "source": [
        "**Accuracy of test set**"
      ]
    },
    {
      "cell_type": "code",
      "metadata": {
        "id": "c4HeYNZg0JcV",
        "outputId": "4d7211f4-5fda-4a88-c034-fa4af75bd0d3",
        "colab": {
          "base_uri": "https://localhost:8080/",
          "height": 35
        }
      },
      "source": [
        "r2_score(y_test,y_test_a) "
      ],
      "execution_count": null,
      "outputs": [
        {
          "output_type": "execute_result",
          "data": {
            "text/plain": [
              "0.6356644547310423"
            ]
          },
          "metadata": {
            "tags": []
          },
          "execution_count": 89
        }
      ]
    },
    {
      "cell_type": "markdown",
      "metadata": {
        "id": "noV_R-2ls6i7"
      },
      "source": [
        "**Accuracy of train set**"
      ]
    },
    {
      "cell_type": "code",
      "metadata": {
        "id": "0wOhtmNX0ms7",
        "outputId": "0f6f6cc6-4a46-4fc7-adca-97a2264f676e",
        "colab": {
          "base_uri": "https://localhost:8080/",
          "height": 35
        }
      },
      "source": [
        "r2_score(y_train,y_train_a) "
      ],
      "execution_count": null,
      "outputs": [
        {
          "output_type": "execute_result",
          "data": {
            "text/plain": [
              "0.6992946104022568"
            ]
          },
          "metadata": {
            "tags": []
          },
          "execution_count": 90
        }
      ]
    },
    {
      "cell_type": "markdown",
      "metadata": {
        "id": "ZbxI1rZ4r_UR"
      },
      "source": [
        ""
      ]
    },
    {
      "cell_type": "markdown",
      "metadata": {
        "id": "4VNDkaN_uZ-K"
      },
      "source": [
        "# ------------------------------------------------------------------THANK YOU!------------------------------------------------------"
      ]
    },
    {
      "cell_type": "code",
      "metadata": {
        "id": "j4wPgxqKu0ER"
      },
      "source": [
        ""
      ],
      "execution_count": null,
      "outputs": []
    }
  ]
}